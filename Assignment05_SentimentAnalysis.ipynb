{
  "nbformat": 4,
  "nbformat_minor": 0,
  "metadata": {
    "colab": {
      "provenance": []
    },
    "kernelspec": {
      "name": "python3",
      "display_name": "Python 3"
    },
    "language_info": {
      "name": "python"
    }
  },
  "cells": [
    {
      "cell_type": "code",
      "execution_count": 59,
      "metadata": {
        "id": "ym-GtCj_hMFW"
      },
      "outputs": [],
      "source": [
        "import numpy as np\n",
        "import pandas as pd"
      ]
    },
    {
      "cell_type": "code",
      "source": [
        "import re\n",
        "import gensim\n",
        "from gensim.models.word2vec import Word2Vec"
      ],
      "metadata": {
        "id": "cQ62wcLyhbtW"
      },
      "execution_count": 60,
      "outputs": []
    },
    {
      "cell_type": "code",
      "source": [
        "from sklearn.model_selection import train_test_split\n",
        "from sklearn.metrics import accuracy_score"
      ],
      "metadata": {
        "id": "tkC9AxXvheOC"
      },
      "execution_count": 61,
      "outputs": []
    },
    {
      "cell_type": "code",
      "source": [
        "from sklearn.svm import SVC\n",
        "from sklearn.neighbors import KNeighborsClassifier\n",
        "from sklearn.ensemble import RandomForestClassifier\n",
        "import xgboost as xgb"
      ],
      "metadata": {
        "id": "ntjm-ckRhg94"
      },
      "execution_count": 62,
      "outputs": []
    },
    {
      "cell_type": "code",
      "source": [
        "from keras.models import Sequential\n",
        "from keras.layers import Dense"
      ],
      "metadata": {
        "id": "DaQS2_Zahmo0"
      },
      "execution_count": 63,
      "outputs": []
    },
    {
      "cell_type": "code",
      "source": [
        "data = pd.read_csv('/content/tweets.csv')"
      ],
      "metadata": {
        "id": "KeHcHefphp73"
      },
      "execution_count": 64,
      "outputs": []
    },
    {
      "cell_type": "code",
      "source": [
        "pd.set_option('display.max_colwidth' , None)"
      ],
      "metadata": {
        "id": "JeAwk2g5iMpL"
      },
      "execution_count": 65,
      "outputs": []
    },
    {
      "cell_type": "code",
      "source": [
        "data.head()"
      ],
      "metadata": {
        "colab": {
          "base_uri": "https://localhost:8080/",
          "height": 206
        },
        "id": "Pwdkw36ViPwO",
        "outputId": "3621b2d8-1ee0-437d-a49d-04824f36c5c2"
      },
      "execution_count": 66,
      "outputs": [
        {
          "output_type": "execute_result",
          "data": {
            "text/plain": [
              "   id  label  \\\n",
              "0   1      0   \n",
              "1   2      0   \n",
              "2   3      0   \n",
              "3   4      0   \n",
              "4   5      1   \n",
              "\n",
              "                                                                                                                                 tweet  \n",
              "0     #fingerprint #Pregnancy Test https://goo.gl/h1MfQV #android #apps #beautiful #cute #health #igers #iphoneonly #iphonesia #iphone  \n",
              "1  Finally a transparant silicon case ^^ Thanks to my uncle :) #yay #Sony #Xperia #S #sonyexperias… http://instagram.com/p/YGEt5JC6JM/  \n",
              "2          We love this! Would you go? #talk #makememories #unplug #relax #iphone #smartphone #wifi #connect... http://fb.me/6N3LsUpCu  \n",
              "3                     I'm wired I know I'm George I was made that way ;) #iphone #cute #daventry #home http://instagr.am/p/Li_5_ujS4k/  \n",
              "4         What amazing service! Apple won't even talk to me about a question I have unless I pay them $19.95 for their stupid support!  "
            ],
            "text/html": [
              "\n",
              "  <div id=\"df-0c77d14e-05a4-41aa-949f-623377b090f4\" class=\"colab-df-container\">\n",
              "    <div>\n",
              "<style scoped>\n",
              "    .dataframe tbody tr th:only-of-type {\n",
              "        vertical-align: middle;\n",
              "    }\n",
              "\n",
              "    .dataframe tbody tr th {\n",
              "        vertical-align: top;\n",
              "    }\n",
              "\n",
              "    .dataframe thead th {\n",
              "        text-align: right;\n",
              "    }\n",
              "</style>\n",
              "<table border=\"1\" class=\"dataframe\">\n",
              "  <thead>\n",
              "    <tr style=\"text-align: right;\">\n",
              "      <th></th>\n",
              "      <th>id</th>\n",
              "      <th>label</th>\n",
              "      <th>tweet</th>\n",
              "    </tr>\n",
              "  </thead>\n",
              "  <tbody>\n",
              "    <tr>\n",
              "      <th>0</th>\n",
              "      <td>1</td>\n",
              "      <td>0</td>\n",
              "      <td>#fingerprint #Pregnancy Test https://goo.gl/h1MfQV #android #apps #beautiful #cute #health #igers #iphoneonly #iphonesia #iphone</td>\n",
              "    </tr>\n",
              "    <tr>\n",
              "      <th>1</th>\n",
              "      <td>2</td>\n",
              "      <td>0</td>\n",
              "      <td>Finally a transparant silicon case ^^ Thanks to my uncle :) #yay #Sony #Xperia #S #sonyexperias… http://instagram.com/p/YGEt5JC6JM/</td>\n",
              "    </tr>\n",
              "    <tr>\n",
              "      <th>2</th>\n",
              "      <td>3</td>\n",
              "      <td>0</td>\n",
              "      <td>We love this! Would you go? #talk #makememories #unplug #relax #iphone #smartphone #wifi #connect... http://fb.me/6N3LsUpCu</td>\n",
              "    </tr>\n",
              "    <tr>\n",
              "      <th>3</th>\n",
              "      <td>4</td>\n",
              "      <td>0</td>\n",
              "      <td>I'm wired I know I'm George I was made that way ;) #iphone #cute #daventry #home http://instagr.am/p/Li_5_ujS4k/</td>\n",
              "    </tr>\n",
              "    <tr>\n",
              "      <th>4</th>\n",
              "      <td>5</td>\n",
              "      <td>1</td>\n",
              "      <td>What amazing service! Apple won't even talk to me about a question I have unless I pay them $19.95 for their stupid support!</td>\n",
              "    </tr>\n",
              "  </tbody>\n",
              "</table>\n",
              "</div>\n",
              "    <div class=\"colab-df-buttons\">\n",
              "\n",
              "  <div class=\"colab-df-container\">\n",
              "    <button class=\"colab-df-convert\" onclick=\"convertToInteractive('df-0c77d14e-05a4-41aa-949f-623377b090f4')\"\n",
              "            title=\"Convert this dataframe to an interactive table.\"\n",
              "            style=\"display:none;\">\n",
              "\n",
              "  <svg xmlns=\"http://www.w3.org/2000/svg\" height=\"24px\" viewBox=\"0 -960 960 960\">\n",
              "    <path d=\"M120-120v-720h720v720H120Zm60-500h600v-160H180v160Zm220 220h160v-160H400v160Zm0 220h160v-160H400v160ZM180-400h160v-160H180v160Zm440 0h160v-160H620v160ZM180-180h160v-160H180v160Zm440 0h160v-160H620v160Z\"/>\n",
              "  </svg>\n",
              "    </button>\n",
              "\n",
              "  <style>\n",
              "    .colab-df-container {\n",
              "      display:flex;\n",
              "      gap: 12px;\n",
              "    }\n",
              "\n",
              "    .colab-df-convert {\n",
              "      background-color: #E8F0FE;\n",
              "      border: none;\n",
              "      border-radius: 50%;\n",
              "      cursor: pointer;\n",
              "      display: none;\n",
              "      fill: #1967D2;\n",
              "      height: 32px;\n",
              "      padding: 0 0 0 0;\n",
              "      width: 32px;\n",
              "    }\n",
              "\n",
              "    .colab-df-convert:hover {\n",
              "      background-color: #E2EBFA;\n",
              "      box-shadow: 0px 1px 2px rgba(60, 64, 67, 0.3), 0px 1px 3px 1px rgba(60, 64, 67, 0.15);\n",
              "      fill: #174EA6;\n",
              "    }\n",
              "\n",
              "    .colab-df-buttons div {\n",
              "      margin-bottom: 4px;\n",
              "    }\n",
              "\n",
              "    [theme=dark] .colab-df-convert {\n",
              "      background-color: #3B4455;\n",
              "      fill: #D2E3FC;\n",
              "    }\n",
              "\n",
              "    [theme=dark] .colab-df-convert:hover {\n",
              "      background-color: #434B5C;\n",
              "      box-shadow: 0px 1px 3px 1px rgba(0, 0, 0, 0.15);\n",
              "      filter: drop-shadow(0px 1px 2px rgba(0, 0, 0, 0.3));\n",
              "      fill: #FFFFFF;\n",
              "    }\n",
              "  </style>\n",
              "\n",
              "    <script>\n",
              "      const buttonEl =\n",
              "        document.querySelector('#df-0c77d14e-05a4-41aa-949f-623377b090f4 button.colab-df-convert');\n",
              "      buttonEl.style.display =\n",
              "        google.colab.kernel.accessAllowed ? 'block' : 'none';\n",
              "\n",
              "      async function convertToInteractive(key) {\n",
              "        const element = document.querySelector('#df-0c77d14e-05a4-41aa-949f-623377b090f4');\n",
              "        const dataTable =\n",
              "          await google.colab.kernel.invokeFunction('convertToInteractive',\n",
              "                                                    [key], {});\n",
              "        if (!dataTable) return;\n",
              "\n",
              "        const docLinkHtml = 'Like what you see? Visit the ' +\n",
              "          '<a target=\"_blank\" href=https://colab.research.google.com/notebooks/data_table.ipynb>data table notebook</a>'\n",
              "          + ' to learn more about interactive tables.';\n",
              "        element.innerHTML = '';\n",
              "        dataTable['output_type'] = 'display_data';\n",
              "        await google.colab.output.renderOutput(dataTable, element);\n",
              "        const docLink = document.createElement('div');\n",
              "        docLink.innerHTML = docLinkHtml;\n",
              "        element.appendChild(docLink);\n",
              "      }\n",
              "    </script>\n",
              "  </div>\n",
              "\n",
              "\n",
              "<div id=\"df-5a689e86-c06a-40e7-81b0-4010fd2bae16\">\n",
              "  <button class=\"colab-df-quickchart\" onclick=\"quickchart('df-5a689e86-c06a-40e7-81b0-4010fd2bae16')\"\n",
              "            title=\"Suggest charts\"\n",
              "            style=\"display:none;\">\n",
              "\n",
              "<svg xmlns=\"http://www.w3.org/2000/svg\" height=\"24px\"viewBox=\"0 0 24 24\"\n",
              "     width=\"24px\">\n",
              "    <g>\n",
              "        <path d=\"M19 3H5c-1.1 0-2 .9-2 2v14c0 1.1.9 2 2 2h14c1.1 0 2-.9 2-2V5c0-1.1-.9-2-2-2zM9 17H7v-7h2v7zm4 0h-2V7h2v10zm4 0h-2v-4h2v4z\"/>\n",
              "    </g>\n",
              "</svg>\n",
              "  </button>\n",
              "\n",
              "<style>\n",
              "  .colab-df-quickchart {\n",
              "      --bg-color: #E8F0FE;\n",
              "      --fill-color: #1967D2;\n",
              "      --hover-bg-color: #E2EBFA;\n",
              "      --hover-fill-color: #174EA6;\n",
              "      --disabled-fill-color: #AAA;\n",
              "      --disabled-bg-color: #DDD;\n",
              "  }\n",
              "\n",
              "  [theme=dark] .colab-df-quickchart {\n",
              "      --bg-color: #3B4455;\n",
              "      --fill-color: #D2E3FC;\n",
              "      --hover-bg-color: #434B5C;\n",
              "      --hover-fill-color: #FFFFFF;\n",
              "      --disabled-bg-color: #3B4455;\n",
              "      --disabled-fill-color: #666;\n",
              "  }\n",
              "\n",
              "  .colab-df-quickchart {\n",
              "    background-color: var(--bg-color);\n",
              "    border: none;\n",
              "    border-radius: 50%;\n",
              "    cursor: pointer;\n",
              "    display: none;\n",
              "    fill: var(--fill-color);\n",
              "    height: 32px;\n",
              "    padding: 0;\n",
              "    width: 32px;\n",
              "  }\n",
              "\n",
              "  .colab-df-quickchart:hover {\n",
              "    background-color: var(--hover-bg-color);\n",
              "    box-shadow: 0 1px 2px rgba(60, 64, 67, 0.3), 0 1px 3px 1px rgba(60, 64, 67, 0.15);\n",
              "    fill: var(--button-hover-fill-color);\n",
              "  }\n",
              "\n",
              "  .colab-df-quickchart-complete:disabled,\n",
              "  .colab-df-quickchart-complete:disabled:hover {\n",
              "    background-color: var(--disabled-bg-color);\n",
              "    fill: var(--disabled-fill-color);\n",
              "    box-shadow: none;\n",
              "  }\n",
              "\n",
              "  .colab-df-spinner {\n",
              "    border: 2px solid var(--fill-color);\n",
              "    border-color: transparent;\n",
              "    border-bottom-color: var(--fill-color);\n",
              "    animation:\n",
              "      spin 1s steps(1) infinite;\n",
              "  }\n",
              "\n",
              "  @keyframes spin {\n",
              "    0% {\n",
              "      border-color: transparent;\n",
              "      border-bottom-color: var(--fill-color);\n",
              "      border-left-color: var(--fill-color);\n",
              "    }\n",
              "    20% {\n",
              "      border-color: transparent;\n",
              "      border-left-color: var(--fill-color);\n",
              "      border-top-color: var(--fill-color);\n",
              "    }\n",
              "    30% {\n",
              "      border-color: transparent;\n",
              "      border-left-color: var(--fill-color);\n",
              "      border-top-color: var(--fill-color);\n",
              "      border-right-color: var(--fill-color);\n",
              "    }\n",
              "    40% {\n",
              "      border-color: transparent;\n",
              "      border-right-color: var(--fill-color);\n",
              "      border-top-color: var(--fill-color);\n",
              "    }\n",
              "    60% {\n",
              "      border-color: transparent;\n",
              "      border-right-color: var(--fill-color);\n",
              "    }\n",
              "    80% {\n",
              "      border-color: transparent;\n",
              "      border-right-color: var(--fill-color);\n",
              "      border-bottom-color: var(--fill-color);\n",
              "    }\n",
              "    90% {\n",
              "      border-color: transparent;\n",
              "      border-bottom-color: var(--fill-color);\n",
              "    }\n",
              "  }\n",
              "</style>\n",
              "\n",
              "  <script>\n",
              "    async function quickchart(key) {\n",
              "      const quickchartButtonEl =\n",
              "        document.querySelector('#' + key + ' button');\n",
              "      quickchartButtonEl.disabled = true;  // To prevent multiple clicks.\n",
              "      quickchartButtonEl.classList.add('colab-df-spinner');\n",
              "      try {\n",
              "        const charts = await google.colab.kernel.invokeFunction(\n",
              "            'suggestCharts', [key], {});\n",
              "      } catch (error) {\n",
              "        console.error('Error during call to suggestCharts:', error);\n",
              "      }\n",
              "      quickchartButtonEl.classList.remove('colab-df-spinner');\n",
              "      quickchartButtonEl.classList.add('colab-df-quickchart-complete');\n",
              "    }\n",
              "    (() => {\n",
              "      let quickchartButtonEl =\n",
              "        document.querySelector('#df-5a689e86-c06a-40e7-81b0-4010fd2bae16 button');\n",
              "      quickchartButtonEl.style.display =\n",
              "        google.colab.kernel.accessAllowed ? 'block' : 'none';\n",
              "    })();\n",
              "  </script>\n",
              "</div>\n",
              "    </div>\n",
              "  </div>\n"
            ]
          },
          "metadata": {},
          "execution_count": 66
        }
      ]
    },
    {
      "cell_type": "code",
      "source": [
        "data.shape"
      ],
      "metadata": {
        "colab": {
          "base_uri": "https://localhost:8080/"
        },
        "id": "VAhMSq5qiSmN",
        "outputId": "4c103d08-30c1-465f-bc8e-bccecfc61bc9"
      },
      "execution_count": 67,
      "outputs": [
        {
          "output_type": "execute_result",
          "data": {
            "text/plain": [
              "(7920, 3)"
            ]
          },
          "metadata": {},
          "execution_count": 67
        }
      ]
    },
    {
      "cell_type": "code",
      "source": [
        "data.drop('id',axis=1,inplace=True)"
      ],
      "metadata": {
        "id": "V9k-f6tpiTy0"
      },
      "execution_count": 68,
      "outputs": []
    },
    {
      "cell_type": "code",
      "source": [
        "data.isna().sum()"
      ],
      "metadata": {
        "colab": {
          "base_uri": "https://localhost:8080/"
        },
        "id": "9YWcwoe4iXZq",
        "outputId": "4daec566-3e79-46cc-bfbb-56b221f348ed"
      },
      "execution_count": 69,
      "outputs": [
        {
          "output_type": "execute_result",
          "data": {
            "text/plain": [
              "label    0\n",
              "tweet    0\n",
              "dtype: int64"
            ]
          },
          "metadata": {},
          "execution_count": 69
        }
      ]
    },
    {
      "cell_type": "code",
      "source": [
        "data['label'].value_counts()"
      ],
      "metadata": {
        "colab": {
          "base_uri": "https://localhost:8080/"
        },
        "id": "T2niGNjQibnR",
        "outputId": "e6007049-6977-467d-d003-3361faeb3f55"
      },
      "execution_count": 70,
      "outputs": [
        {
          "output_type": "execute_result",
          "data": {
            "text/plain": [
              "0    5894\n",
              "1    2026\n",
              "Name: label, dtype: int64"
            ]
          },
          "metadata": {},
          "execution_count": 70
        }
      ]
    },
    {
      "cell_type": "code",
      "source": [
        "#url removing\n",
        "def remove_URL(sample):\n",
        "  return re.sub(r\"http\\S+\", \"\", sample)"
      ],
      "metadata": {
        "id": "7qI7-Zwdie1x"
      },
      "execution_count": 71,
      "outputs": []
    },
    {
      "cell_type": "code",
      "source": [
        "data['text_clean_url-less'] = data['tweet'].apply(lambda x: remove_URL(x))"
      ],
      "metadata": {
        "id": "KLQCVtDHitXL"
      },
      "execution_count": 72,
      "outputs": []
    },
    {
      "cell_type": "code",
      "source": [
        "data['clean_tweet'] = data['text_clean_url-less'].apply(lambda x: gensim.utils.simple_preprocess(x))"
      ],
      "metadata": {
        "id": "3TxSg_Emit-k"
      },
      "execution_count": 73,
      "outputs": []
    },
    {
      "cell_type": "code",
      "source": [
        "data.head()"
      ],
      "metadata": {
        "colab": {
          "base_uri": "https://localhost:8080/",
          "height": 310
        },
        "id": "BUUXkvKkixTr",
        "outputId": "72f718a6-e4bf-475b-c760-a65cd9ea22ab"
      },
      "execution_count": 74,
      "outputs": [
        {
          "output_type": "execute_result",
          "data": {
            "text/plain": [
              "   label  \\\n",
              "0      0   \n",
              "1      0   \n",
              "2      0   \n",
              "3      0   \n",
              "4      1   \n",
              "\n",
              "                                                                                                                                 tweet  \\\n",
              "0     #fingerprint #Pregnancy Test https://goo.gl/h1MfQV #android #apps #beautiful #cute #health #igers #iphoneonly #iphonesia #iphone   \n",
              "1  Finally a transparant silicon case ^^ Thanks to my uncle :) #yay #Sony #Xperia #S #sonyexperias… http://instagram.com/p/YGEt5JC6JM/   \n",
              "2          We love this! Would you go? #talk #makememories #unplug #relax #iphone #smartphone #wifi #connect... http://fb.me/6N3LsUpCu   \n",
              "3                     I'm wired I know I'm George I was made that way ;) #iphone #cute #daventry #home http://instagr.am/p/Li_5_ujS4k/   \n",
              "4         What amazing service! Apple won't even talk to me about a question I have unless I pay them $19.95 for their stupid support!   \n",
              "\n",
              "                                                                                                            text_clean_url-less  \\\n",
              "0                   #fingerprint #Pregnancy Test  #android #apps #beautiful #cute #health #igers #iphoneonly #iphonesia #iphone   \n",
              "1                             Finally a transparant silicon case ^^ Thanks to my uncle :) #yay #Sony #Xperia #S #sonyexperias…    \n",
              "2                         We love this! Would you go? #talk #makememories #unplug #relax #iphone #smartphone #wifi #connect...    \n",
              "3                                             I'm wired I know I'm George I was made that way ;) #iphone #cute #daventry #home    \n",
              "4  What amazing service! Apple won't even talk to me about a question I have unless I pay them $19.95 for their stupid support!   \n",
              "\n",
              "                                                                                                                       clean_tweet  \n",
              "0                     [fingerprint, pregnancy, test, android, apps, beautiful, cute, health, igers, iphoneonly, iphonesia, iphone]  \n",
              "1                                    [finally, transparant, silicon, case, thanks, to, my, uncle, yay, sony, xperia, sonyexperias]  \n",
              "2                           [we, love, this, would, you, go, talk, makememories, unplug, relax, iphone, smartphone, wifi, connect]  \n",
              "3                                                        [wired, know, george, was, made, that, way, iphone, cute, daventry, home]  \n",
              "4  [what, amazing, service, apple, won, even, talk, to, me, about, question, have, unless, pay, them, for, their, stupid, support]  "
            ],
            "text/html": [
              "\n",
              "  <div id=\"df-1851f362-c4da-4f5e-aeb3-d7d4c4ee3192\" class=\"colab-df-container\">\n",
              "    <div>\n",
              "<style scoped>\n",
              "    .dataframe tbody tr th:only-of-type {\n",
              "        vertical-align: middle;\n",
              "    }\n",
              "\n",
              "    .dataframe tbody tr th {\n",
              "        vertical-align: top;\n",
              "    }\n",
              "\n",
              "    .dataframe thead th {\n",
              "        text-align: right;\n",
              "    }\n",
              "</style>\n",
              "<table border=\"1\" class=\"dataframe\">\n",
              "  <thead>\n",
              "    <tr style=\"text-align: right;\">\n",
              "      <th></th>\n",
              "      <th>label</th>\n",
              "      <th>tweet</th>\n",
              "      <th>text_clean_url-less</th>\n",
              "      <th>clean_tweet</th>\n",
              "    </tr>\n",
              "  </thead>\n",
              "  <tbody>\n",
              "    <tr>\n",
              "      <th>0</th>\n",
              "      <td>0</td>\n",
              "      <td>#fingerprint #Pregnancy Test https://goo.gl/h1MfQV #android #apps #beautiful #cute #health #igers #iphoneonly #iphonesia #iphone</td>\n",
              "      <td>#fingerprint #Pregnancy Test  #android #apps #beautiful #cute #health #igers #iphoneonly #iphonesia #iphone</td>\n",
              "      <td>[fingerprint, pregnancy, test, android, apps, beautiful, cute, health, igers, iphoneonly, iphonesia, iphone]</td>\n",
              "    </tr>\n",
              "    <tr>\n",
              "      <th>1</th>\n",
              "      <td>0</td>\n",
              "      <td>Finally a transparant silicon case ^^ Thanks to my uncle :) #yay #Sony #Xperia #S #sonyexperias… http://instagram.com/p/YGEt5JC6JM/</td>\n",
              "      <td>Finally a transparant silicon case ^^ Thanks to my uncle :) #yay #Sony #Xperia #S #sonyexperias…</td>\n",
              "      <td>[finally, transparant, silicon, case, thanks, to, my, uncle, yay, sony, xperia, sonyexperias]</td>\n",
              "    </tr>\n",
              "    <tr>\n",
              "      <th>2</th>\n",
              "      <td>0</td>\n",
              "      <td>We love this! Would you go? #talk #makememories #unplug #relax #iphone #smartphone #wifi #connect... http://fb.me/6N3LsUpCu</td>\n",
              "      <td>We love this! Would you go? #talk #makememories #unplug #relax #iphone #smartphone #wifi #connect...</td>\n",
              "      <td>[we, love, this, would, you, go, talk, makememories, unplug, relax, iphone, smartphone, wifi, connect]</td>\n",
              "    </tr>\n",
              "    <tr>\n",
              "      <th>3</th>\n",
              "      <td>0</td>\n",
              "      <td>I'm wired I know I'm George I was made that way ;) #iphone #cute #daventry #home http://instagr.am/p/Li_5_ujS4k/</td>\n",
              "      <td>I'm wired I know I'm George I was made that way ;) #iphone #cute #daventry #home</td>\n",
              "      <td>[wired, know, george, was, made, that, way, iphone, cute, daventry, home]</td>\n",
              "    </tr>\n",
              "    <tr>\n",
              "      <th>4</th>\n",
              "      <td>1</td>\n",
              "      <td>What amazing service! Apple won't even talk to me about a question I have unless I pay them $19.95 for their stupid support!</td>\n",
              "      <td>What amazing service! Apple won't even talk to me about a question I have unless I pay them $19.95 for their stupid support!</td>\n",
              "      <td>[what, amazing, service, apple, won, even, talk, to, me, about, question, have, unless, pay, them, for, their, stupid, support]</td>\n",
              "    </tr>\n",
              "  </tbody>\n",
              "</table>\n",
              "</div>\n",
              "    <div class=\"colab-df-buttons\">\n",
              "\n",
              "  <div class=\"colab-df-container\">\n",
              "    <button class=\"colab-df-convert\" onclick=\"convertToInteractive('df-1851f362-c4da-4f5e-aeb3-d7d4c4ee3192')\"\n",
              "            title=\"Convert this dataframe to an interactive table.\"\n",
              "            style=\"display:none;\">\n",
              "\n",
              "  <svg xmlns=\"http://www.w3.org/2000/svg\" height=\"24px\" viewBox=\"0 -960 960 960\">\n",
              "    <path d=\"M120-120v-720h720v720H120Zm60-500h600v-160H180v160Zm220 220h160v-160H400v160Zm0 220h160v-160H400v160ZM180-400h160v-160H180v160Zm440 0h160v-160H620v160ZM180-180h160v-160H180v160Zm440 0h160v-160H620v160Z\"/>\n",
              "  </svg>\n",
              "    </button>\n",
              "\n",
              "  <style>\n",
              "    .colab-df-container {\n",
              "      display:flex;\n",
              "      gap: 12px;\n",
              "    }\n",
              "\n",
              "    .colab-df-convert {\n",
              "      background-color: #E8F0FE;\n",
              "      border: none;\n",
              "      border-radius: 50%;\n",
              "      cursor: pointer;\n",
              "      display: none;\n",
              "      fill: #1967D2;\n",
              "      height: 32px;\n",
              "      padding: 0 0 0 0;\n",
              "      width: 32px;\n",
              "    }\n",
              "\n",
              "    .colab-df-convert:hover {\n",
              "      background-color: #E2EBFA;\n",
              "      box-shadow: 0px 1px 2px rgba(60, 64, 67, 0.3), 0px 1px 3px 1px rgba(60, 64, 67, 0.15);\n",
              "      fill: #174EA6;\n",
              "    }\n",
              "\n",
              "    .colab-df-buttons div {\n",
              "      margin-bottom: 4px;\n",
              "    }\n",
              "\n",
              "    [theme=dark] .colab-df-convert {\n",
              "      background-color: #3B4455;\n",
              "      fill: #D2E3FC;\n",
              "    }\n",
              "\n",
              "    [theme=dark] .colab-df-convert:hover {\n",
              "      background-color: #434B5C;\n",
              "      box-shadow: 0px 1px 3px 1px rgba(0, 0, 0, 0.15);\n",
              "      filter: drop-shadow(0px 1px 2px rgba(0, 0, 0, 0.3));\n",
              "      fill: #FFFFFF;\n",
              "    }\n",
              "  </style>\n",
              "\n",
              "    <script>\n",
              "      const buttonEl =\n",
              "        document.querySelector('#df-1851f362-c4da-4f5e-aeb3-d7d4c4ee3192 button.colab-df-convert');\n",
              "      buttonEl.style.display =\n",
              "        google.colab.kernel.accessAllowed ? 'block' : 'none';\n",
              "\n",
              "      async function convertToInteractive(key) {\n",
              "        const element = document.querySelector('#df-1851f362-c4da-4f5e-aeb3-d7d4c4ee3192');\n",
              "        const dataTable =\n",
              "          await google.colab.kernel.invokeFunction('convertToInteractive',\n",
              "                                                    [key], {});\n",
              "        if (!dataTable) return;\n",
              "\n",
              "        const docLinkHtml = 'Like what you see? Visit the ' +\n",
              "          '<a target=\"_blank\" href=https://colab.research.google.com/notebooks/data_table.ipynb>data table notebook</a>'\n",
              "          + ' to learn more about interactive tables.';\n",
              "        element.innerHTML = '';\n",
              "        dataTable['output_type'] = 'display_data';\n",
              "        await google.colab.output.renderOutput(dataTable, element);\n",
              "        const docLink = document.createElement('div');\n",
              "        docLink.innerHTML = docLinkHtml;\n",
              "        element.appendChild(docLink);\n",
              "      }\n",
              "    </script>\n",
              "  </div>\n",
              "\n",
              "\n",
              "<div id=\"df-1e339389-d5f3-487d-abb2-e52be7bed25e\">\n",
              "  <button class=\"colab-df-quickchart\" onclick=\"quickchart('df-1e339389-d5f3-487d-abb2-e52be7bed25e')\"\n",
              "            title=\"Suggest charts\"\n",
              "            style=\"display:none;\">\n",
              "\n",
              "<svg xmlns=\"http://www.w3.org/2000/svg\" height=\"24px\"viewBox=\"0 0 24 24\"\n",
              "     width=\"24px\">\n",
              "    <g>\n",
              "        <path d=\"M19 3H5c-1.1 0-2 .9-2 2v14c0 1.1.9 2 2 2h14c1.1 0 2-.9 2-2V5c0-1.1-.9-2-2-2zM9 17H7v-7h2v7zm4 0h-2V7h2v10zm4 0h-2v-4h2v4z\"/>\n",
              "    </g>\n",
              "</svg>\n",
              "  </button>\n",
              "\n",
              "<style>\n",
              "  .colab-df-quickchart {\n",
              "      --bg-color: #E8F0FE;\n",
              "      --fill-color: #1967D2;\n",
              "      --hover-bg-color: #E2EBFA;\n",
              "      --hover-fill-color: #174EA6;\n",
              "      --disabled-fill-color: #AAA;\n",
              "      --disabled-bg-color: #DDD;\n",
              "  }\n",
              "\n",
              "  [theme=dark] .colab-df-quickchart {\n",
              "      --bg-color: #3B4455;\n",
              "      --fill-color: #D2E3FC;\n",
              "      --hover-bg-color: #434B5C;\n",
              "      --hover-fill-color: #FFFFFF;\n",
              "      --disabled-bg-color: #3B4455;\n",
              "      --disabled-fill-color: #666;\n",
              "  }\n",
              "\n",
              "  .colab-df-quickchart {\n",
              "    background-color: var(--bg-color);\n",
              "    border: none;\n",
              "    border-radius: 50%;\n",
              "    cursor: pointer;\n",
              "    display: none;\n",
              "    fill: var(--fill-color);\n",
              "    height: 32px;\n",
              "    padding: 0;\n",
              "    width: 32px;\n",
              "  }\n",
              "\n",
              "  .colab-df-quickchart:hover {\n",
              "    background-color: var(--hover-bg-color);\n",
              "    box-shadow: 0 1px 2px rgba(60, 64, 67, 0.3), 0 1px 3px 1px rgba(60, 64, 67, 0.15);\n",
              "    fill: var(--button-hover-fill-color);\n",
              "  }\n",
              "\n",
              "  .colab-df-quickchart-complete:disabled,\n",
              "  .colab-df-quickchart-complete:disabled:hover {\n",
              "    background-color: var(--disabled-bg-color);\n",
              "    fill: var(--disabled-fill-color);\n",
              "    box-shadow: none;\n",
              "  }\n",
              "\n",
              "  .colab-df-spinner {\n",
              "    border: 2px solid var(--fill-color);\n",
              "    border-color: transparent;\n",
              "    border-bottom-color: var(--fill-color);\n",
              "    animation:\n",
              "      spin 1s steps(1) infinite;\n",
              "  }\n",
              "\n",
              "  @keyframes spin {\n",
              "    0% {\n",
              "      border-color: transparent;\n",
              "      border-bottom-color: var(--fill-color);\n",
              "      border-left-color: var(--fill-color);\n",
              "    }\n",
              "    20% {\n",
              "      border-color: transparent;\n",
              "      border-left-color: var(--fill-color);\n",
              "      border-top-color: var(--fill-color);\n",
              "    }\n",
              "    30% {\n",
              "      border-color: transparent;\n",
              "      border-left-color: var(--fill-color);\n",
              "      border-top-color: var(--fill-color);\n",
              "      border-right-color: var(--fill-color);\n",
              "    }\n",
              "    40% {\n",
              "      border-color: transparent;\n",
              "      border-right-color: var(--fill-color);\n",
              "      border-top-color: var(--fill-color);\n",
              "    }\n",
              "    60% {\n",
              "      border-color: transparent;\n",
              "      border-right-color: var(--fill-color);\n",
              "    }\n",
              "    80% {\n",
              "      border-color: transparent;\n",
              "      border-right-color: var(--fill-color);\n",
              "      border-bottom-color: var(--fill-color);\n",
              "    }\n",
              "    90% {\n",
              "      border-color: transparent;\n",
              "      border-bottom-color: var(--fill-color);\n",
              "    }\n",
              "  }\n",
              "</style>\n",
              "\n",
              "  <script>\n",
              "    async function quickchart(key) {\n",
              "      const quickchartButtonEl =\n",
              "        document.querySelector('#' + key + ' button');\n",
              "      quickchartButtonEl.disabled = true;  // To prevent multiple clicks.\n",
              "      quickchartButtonEl.classList.add('colab-df-spinner');\n",
              "      try {\n",
              "        const charts = await google.colab.kernel.invokeFunction(\n",
              "            'suggestCharts', [key], {});\n",
              "      } catch (error) {\n",
              "        console.error('Error during call to suggestCharts:', error);\n",
              "      }\n",
              "      quickchartButtonEl.classList.remove('colab-df-spinner');\n",
              "      quickchartButtonEl.classList.add('colab-df-quickchart-complete');\n",
              "    }\n",
              "    (() => {\n",
              "      let quickchartButtonEl =\n",
              "        document.querySelector('#df-1e339389-d5f3-487d-abb2-e52be7bed25e button');\n",
              "      quickchartButtonEl.style.display =\n",
              "        google.colab.kernel.accessAllowed ? 'block' : 'none';\n",
              "    })();\n",
              "  </script>\n",
              "</div>\n",
              "    </div>\n",
              "  </div>\n"
            ]
          },
          "metadata": {},
          "execution_count": 74
        }
      ]
    },
    {
      "cell_type": "code",
      "source": [
        "data.drop(['tweet','text_clean_url-less'],axis = 1 ,inplace=True)"
      ],
      "metadata": {
        "id": "XaqDZvT3i1Zh"
      },
      "execution_count": 75,
      "outputs": []
    },
    {
      "cell_type": "code",
      "source": [
        "data.shape"
      ],
      "metadata": {
        "colab": {
          "base_uri": "https://localhost:8080/"
        },
        "id": "PfdriToPi2P-",
        "outputId": "95b4a977-508b-492e-b962-901c1864350f"
      },
      "execution_count": 76,
      "outputs": [
        {
          "output_type": "execute_result",
          "data": {
            "text/plain": [
              "(7920, 2)"
            ]
          },
          "metadata": {},
          "execution_count": 76
        }
      ]
    },
    {
      "cell_type": "code",
      "source": [
        "x_train,x_test,y_train,y_test = train_test_split(data['clean_tweet'],data['label'],test_size=0.2,random_state=42)"
      ],
      "metadata": {
        "id": "YdXlvI7gi5MJ"
      },
      "execution_count": 77,
      "outputs": []
    },
    {
      "cell_type": "code",
      "source": [
        "model_gs = Word2Vec(x_train, min_count = 1)"
      ],
      "metadata": {
        "id": "78S3_12qi-ee"
      },
      "execution_count": 78,
      "outputs": []
    },
    {
      "cell_type": "code",
      "source": [
        "model_gs.wv.most_similar('apple')"
      ],
      "metadata": {
        "colab": {
          "base_uri": "https://localhost:8080/"
        },
        "id": "--HSO_ptjBnp",
        "outputId": "d6686079-1731-4da9-f23b-87d2b94ba19d"
      },
      "execution_count": 79,
      "outputs": [
        {
          "output_type": "execute_result",
          "data": {
            "text/plain": [
              "[('mac', 0.999596118927002),\n",
              " ('store', 0.9994591474533081),\n",
              " ('from', 0.9994539618492126),\n",
              " ('more', 0.9994441270828247),\n",
              " ('another', 0.9994201064109802),\n",
              " ('screen', 0.9994146227836609),\n",
              " ('ever', 0.9993608593940735),\n",
              " ('work', 0.9993183612823486),\n",
              " ('days', 0.9992135763168335),\n",
              " ('watch', 0.9992071390151978)]"
            ]
          },
          "metadata": {},
          "execution_count": 79
        }
      ]
    },
    {
      "cell_type": "code",
      "source": [
        "words = model_gs.wv.index_to_key"
      ],
      "metadata": {
        "id": "9QfVK_mCjFs7"
      },
      "execution_count": 80,
      "outputs": []
    },
    {
      "cell_type": "code",
      "source": [
        "len(words)"
      ],
      "metadata": {
        "colab": {
          "base_uri": "https://localhost:8080/"
        },
        "id": "UGlkbqNLjJ6Y",
        "outputId": "5052d857-b40d-4d91-adbc-1efc63b17e01"
      },
      "execution_count": 81,
      "outputs": [
        {
          "output_type": "execute_result",
          "data": {
            "text/plain": [
              "14946"
            ]
          },
          "metadata": {},
          "execution_count": 81
        }
      ]
    },
    {
      "cell_type": "code",
      "source": [
        "x_train_vec = np.array([np.array([model_gs.wv[i] for i in ls if i in words]) for ls in x_train],dtype=object)\n",
        "x_test_vec = np.array([np.array([model_gs.wv[i] for i in ls if i in words]) for ls in x_test],dtype=object)"
      ],
      "metadata": {
        "id": "x8MKY_t_jTaR"
      },
      "execution_count": 82,
      "outputs": []
    },
    {
      "cell_type": "code",
      "source": [
        "len(x_train_vec[0][0])"
      ],
      "metadata": {
        "colab": {
          "base_uri": "https://localhost:8080/"
        },
        "id": "TYdJvCf8jW6h",
        "outputId": "98ee5f37-48b7-43b0-eac6-007b7eab5cca"
      },
      "execution_count": 83,
      "outputs": [
        {
          "output_type": "execute_result",
          "data": {
            "text/plain": [
              "100"
            ]
          },
          "metadata": {},
          "execution_count": 83
        }
      ]
    },
    {
      "cell_type": "code",
      "source": [
        "x_train_vec.ndim"
      ],
      "metadata": {
        "colab": {
          "base_uri": "https://localhost:8080/"
        },
        "id": "yLwsxGwSjaJt",
        "outputId": "e91840b5-3fbb-4b05-a8d2-3e55d2e5d6c0"
      },
      "execution_count": 84,
      "outputs": [
        {
          "output_type": "execute_result",
          "data": {
            "text/plain": [
              "1"
            ]
          },
          "metadata": {},
          "execution_count": 84
        }
      ]
    },
    {
      "cell_type": "code",
      "source": [
        "x_train_vec_avg = []\n",
        "for v in x_train_vec:\n",
        "  if v.size:\n",
        "    x_train_vec_avg.append(v.mean(axis = 0))\n",
        "  else:\n",
        "    x_train_vec_avg.append(np.zeros(100,dtype=float))\n",
        "x_test_vec_avg = []\n",
        "for v in x_test_vec:\n",
        "  if v.size:\n",
        "    x_test_vec_avg.append(v.mean(axis = 0))\n",
        "  else:\n",
        "    x_test_vec_avg.append(np.zeros(100,dtype=float))"
      ],
      "metadata": {
        "id": "V0EYw4W9jcR0"
      },
      "execution_count": 85,
      "outputs": []
    },
    {
      "cell_type": "code",
      "source": [
        "clf = RandomForestClassifier(n_estimators=100)\n",
        "clf.fit(x_train_vec_avg,y_train)"
      ],
      "metadata": {
        "colab": {
          "base_uri": "https://localhost:8080/",
          "height": 75
        },
        "id": "4PNGXyqHje_d",
        "outputId": "5973091d-7131-4e05-f242-23ffe26622d1"
      },
      "execution_count": 86,
      "outputs": [
        {
          "output_type": "execute_result",
          "data": {
            "text/plain": [
              "RandomForestClassifier()"
            ],
            "text/html": [
              "<style>#sk-container-id-5 {color: black;background-color: white;}#sk-container-id-5 pre{padding: 0;}#sk-container-id-5 div.sk-toggleable {background-color: white;}#sk-container-id-5 label.sk-toggleable__label {cursor: pointer;display: block;width: 100%;margin-bottom: 0;padding: 0.3em;box-sizing: border-box;text-align: center;}#sk-container-id-5 label.sk-toggleable__label-arrow:before {content: \"▸\";float: left;margin-right: 0.25em;color: #696969;}#sk-container-id-5 label.sk-toggleable__label-arrow:hover:before {color: black;}#sk-container-id-5 div.sk-estimator:hover label.sk-toggleable__label-arrow:before {color: black;}#sk-container-id-5 div.sk-toggleable__content {max-height: 0;max-width: 0;overflow: hidden;text-align: left;background-color: #f0f8ff;}#sk-container-id-5 div.sk-toggleable__content pre {margin: 0.2em;color: black;border-radius: 0.25em;background-color: #f0f8ff;}#sk-container-id-5 input.sk-toggleable__control:checked~div.sk-toggleable__content {max-height: 200px;max-width: 100%;overflow: auto;}#sk-container-id-5 input.sk-toggleable__control:checked~label.sk-toggleable__label-arrow:before {content: \"▾\";}#sk-container-id-5 div.sk-estimator input.sk-toggleable__control:checked~label.sk-toggleable__label {background-color: #d4ebff;}#sk-container-id-5 div.sk-label input.sk-toggleable__control:checked~label.sk-toggleable__label {background-color: #d4ebff;}#sk-container-id-5 input.sk-hidden--visually {border: 0;clip: rect(1px 1px 1px 1px);clip: rect(1px, 1px, 1px, 1px);height: 1px;margin: -1px;overflow: hidden;padding: 0;position: absolute;width: 1px;}#sk-container-id-5 div.sk-estimator {font-family: monospace;background-color: #f0f8ff;border: 1px dotted black;border-radius: 0.25em;box-sizing: border-box;margin-bottom: 0.5em;}#sk-container-id-5 div.sk-estimator:hover {background-color: #d4ebff;}#sk-container-id-5 div.sk-parallel-item::after {content: \"\";width: 100%;border-bottom: 1px solid gray;flex-grow: 1;}#sk-container-id-5 div.sk-label:hover label.sk-toggleable__label {background-color: #d4ebff;}#sk-container-id-5 div.sk-serial::before {content: \"\";position: absolute;border-left: 1px solid gray;box-sizing: border-box;top: 0;bottom: 0;left: 50%;z-index: 0;}#sk-container-id-5 div.sk-serial {display: flex;flex-direction: column;align-items: center;background-color: white;padding-right: 0.2em;padding-left: 0.2em;position: relative;}#sk-container-id-5 div.sk-item {position: relative;z-index: 1;}#sk-container-id-5 div.sk-parallel {display: flex;align-items: stretch;justify-content: center;background-color: white;position: relative;}#sk-container-id-5 div.sk-item::before, #sk-container-id-5 div.sk-parallel-item::before {content: \"\";position: absolute;border-left: 1px solid gray;box-sizing: border-box;top: 0;bottom: 0;left: 50%;z-index: -1;}#sk-container-id-5 div.sk-parallel-item {display: flex;flex-direction: column;z-index: 1;position: relative;background-color: white;}#sk-container-id-5 div.sk-parallel-item:first-child::after {align-self: flex-end;width: 50%;}#sk-container-id-5 div.sk-parallel-item:last-child::after {align-self: flex-start;width: 50%;}#sk-container-id-5 div.sk-parallel-item:only-child::after {width: 0;}#sk-container-id-5 div.sk-dashed-wrapped {border: 1px dashed gray;margin: 0 0.4em 0.5em 0.4em;box-sizing: border-box;padding-bottom: 0.4em;background-color: white;}#sk-container-id-5 div.sk-label label {font-family: monospace;font-weight: bold;display: inline-block;line-height: 1.2em;}#sk-container-id-5 div.sk-label-container {text-align: center;}#sk-container-id-5 div.sk-container {/* jupyter's `normalize.less` sets `[hidden] { display: none; }` but bootstrap.min.css set `[hidden] { display: none !important; }` so we also need the `!important` here to be able to override the default hidden behavior on the sphinx rendered scikit-learn.org. See: https://github.com/scikit-learn/scikit-learn/issues/21755 */display: inline-block !important;position: relative;}#sk-container-id-5 div.sk-text-repr-fallback {display: none;}</style><div id=\"sk-container-id-5\" class=\"sk-top-container\"><div class=\"sk-text-repr-fallback\"><pre>RandomForestClassifier()</pre><b>In a Jupyter environment, please rerun this cell to show the HTML representation or trust the notebook. <br />On GitHub, the HTML representation is unable to render, please try loading this page with nbviewer.org.</b></div><div class=\"sk-container\" hidden><div class=\"sk-item\"><div class=\"sk-estimator sk-toggleable\"><input class=\"sk-toggleable__control sk-hidden--visually\" id=\"sk-estimator-id-5\" type=\"checkbox\" checked><label for=\"sk-estimator-id-5\" class=\"sk-toggleable__label sk-toggleable__label-arrow\">RandomForestClassifier</label><div class=\"sk-toggleable__content\"><pre>RandomForestClassifier()</pre></div></div></div></div></div>"
            ]
          },
          "metadata": {},
          "execution_count": 86
        }
      ]
    },
    {
      "cell_type": "code",
      "source": [
        "#training accuracy\n",
        "y_pred = clf.predict(x_train_vec_avg)\n",
        "accuracy_score(y_pred,y_train)"
      ],
      "metadata": {
        "colab": {
          "base_uri": "https://localhost:8080/"
        },
        "id": "kBRkCMUmjjEG",
        "outputId": "469905b5-976f-47ef-e633-4f9b0c242c43"
      },
      "execution_count": 87,
      "outputs": [
        {
          "output_type": "execute_result",
          "data": {
            "text/plain": [
              "0.9993686868686869"
            ]
          },
          "metadata": {},
          "execution_count": 87
        }
      ]
    },
    {
      "cell_type": "code",
      "source": [
        "y_pred = clf.predict(x_test_vec_avg)\n",
        "accuracy_score(y_pred,y_test)"
      ],
      "metadata": {
        "colab": {
          "base_uri": "https://localhost:8080/"
        },
        "id": "5JV_gqhqjmC2",
        "outputId": "5e294965-12da-4788-b564-2f8a07753b0f"
      },
      "execution_count": 88,
      "outputs": [
        {
          "output_type": "execute_result",
          "data": {
            "text/plain": [
              "0.8446969696969697"
            ]
          },
          "metadata": {},
          "execution_count": 88
        }
      ]
    },
    {
      "cell_type": "code",
      "source": [
        "svc = SVC(kernel='rbf')"
      ],
      "metadata": {
        "id": "paPaREfcjp8K"
      },
      "execution_count": 89,
      "outputs": []
    },
    {
      "cell_type": "code",
      "source": [
        "svc.fit(x_train_vec_avg,y_train)"
      ],
      "metadata": {
        "colab": {
          "base_uri": "https://localhost:8080/",
          "height": 75
        },
        "id": "vKjFQokUjtAW",
        "outputId": "af204c13-be49-4b30-91a6-3a882e513aaf"
      },
      "execution_count": 90,
      "outputs": [
        {
          "output_type": "execute_result",
          "data": {
            "text/plain": [
              "SVC()"
            ],
            "text/html": [
              "<style>#sk-container-id-6 {color: black;background-color: white;}#sk-container-id-6 pre{padding: 0;}#sk-container-id-6 div.sk-toggleable {background-color: white;}#sk-container-id-6 label.sk-toggleable__label {cursor: pointer;display: block;width: 100%;margin-bottom: 0;padding: 0.3em;box-sizing: border-box;text-align: center;}#sk-container-id-6 label.sk-toggleable__label-arrow:before {content: \"▸\";float: left;margin-right: 0.25em;color: #696969;}#sk-container-id-6 label.sk-toggleable__label-arrow:hover:before {color: black;}#sk-container-id-6 div.sk-estimator:hover label.sk-toggleable__label-arrow:before {color: black;}#sk-container-id-6 div.sk-toggleable__content {max-height: 0;max-width: 0;overflow: hidden;text-align: left;background-color: #f0f8ff;}#sk-container-id-6 div.sk-toggleable__content pre {margin: 0.2em;color: black;border-radius: 0.25em;background-color: #f0f8ff;}#sk-container-id-6 input.sk-toggleable__control:checked~div.sk-toggleable__content {max-height: 200px;max-width: 100%;overflow: auto;}#sk-container-id-6 input.sk-toggleable__control:checked~label.sk-toggleable__label-arrow:before {content: \"▾\";}#sk-container-id-6 div.sk-estimator input.sk-toggleable__control:checked~label.sk-toggleable__label {background-color: #d4ebff;}#sk-container-id-6 div.sk-label input.sk-toggleable__control:checked~label.sk-toggleable__label {background-color: #d4ebff;}#sk-container-id-6 input.sk-hidden--visually {border: 0;clip: rect(1px 1px 1px 1px);clip: rect(1px, 1px, 1px, 1px);height: 1px;margin: -1px;overflow: hidden;padding: 0;position: absolute;width: 1px;}#sk-container-id-6 div.sk-estimator {font-family: monospace;background-color: #f0f8ff;border: 1px dotted black;border-radius: 0.25em;box-sizing: border-box;margin-bottom: 0.5em;}#sk-container-id-6 div.sk-estimator:hover {background-color: #d4ebff;}#sk-container-id-6 div.sk-parallel-item::after {content: \"\";width: 100%;border-bottom: 1px solid gray;flex-grow: 1;}#sk-container-id-6 div.sk-label:hover label.sk-toggleable__label {background-color: #d4ebff;}#sk-container-id-6 div.sk-serial::before {content: \"\";position: absolute;border-left: 1px solid gray;box-sizing: border-box;top: 0;bottom: 0;left: 50%;z-index: 0;}#sk-container-id-6 div.sk-serial {display: flex;flex-direction: column;align-items: center;background-color: white;padding-right: 0.2em;padding-left: 0.2em;position: relative;}#sk-container-id-6 div.sk-item {position: relative;z-index: 1;}#sk-container-id-6 div.sk-parallel {display: flex;align-items: stretch;justify-content: center;background-color: white;position: relative;}#sk-container-id-6 div.sk-item::before, #sk-container-id-6 div.sk-parallel-item::before {content: \"\";position: absolute;border-left: 1px solid gray;box-sizing: border-box;top: 0;bottom: 0;left: 50%;z-index: -1;}#sk-container-id-6 div.sk-parallel-item {display: flex;flex-direction: column;z-index: 1;position: relative;background-color: white;}#sk-container-id-6 div.sk-parallel-item:first-child::after {align-self: flex-end;width: 50%;}#sk-container-id-6 div.sk-parallel-item:last-child::after {align-self: flex-start;width: 50%;}#sk-container-id-6 div.sk-parallel-item:only-child::after {width: 0;}#sk-container-id-6 div.sk-dashed-wrapped {border: 1px dashed gray;margin: 0 0.4em 0.5em 0.4em;box-sizing: border-box;padding-bottom: 0.4em;background-color: white;}#sk-container-id-6 div.sk-label label {font-family: monospace;font-weight: bold;display: inline-block;line-height: 1.2em;}#sk-container-id-6 div.sk-label-container {text-align: center;}#sk-container-id-6 div.sk-container {/* jupyter's `normalize.less` sets `[hidden] { display: none; }` but bootstrap.min.css set `[hidden] { display: none !important; }` so we also need the `!important` here to be able to override the default hidden behavior on the sphinx rendered scikit-learn.org. See: https://github.com/scikit-learn/scikit-learn/issues/21755 */display: inline-block !important;position: relative;}#sk-container-id-6 div.sk-text-repr-fallback {display: none;}</style><div id=\"sk-container-id-6\" class=\"sk-top-container\"><div class=\"sk-text-repr-fallback\"><pre>SVC()</pre><b>In a Jupyter environment, please rerun this cell to show the HTML representation or trust the notebook. <br />On GitHub, the HTML representation is unable to render, please try loading this page with nbviewer.org.</b></div><div class=\"sk-container\" hidden><div class=\"sk-item\"><div class=\"sk-estimator sk-toggleable\"><input class=\"sk-toggleable__control sk-hidden--visually\" id=\"sk-estimator-id-6\" type=\"checkbox\" checked><label for=\"sk-estimator-id-6\" class=\"sk-toggleable__label sk-toggleable__label-arrow\">SVC</label><div class=\"sk-toggleable__content\"><pre>SVC()</pre></div></div></div></div></div>"
            ]
          },
          "metadata": {},
          "execution_count": 90
        }
      ]
    },
    {
      "cell_type": "code",
      "source": [
        "y_pred = svc.predict(x_train_vec_avg)\n",
        "accuracy_score(y_pred,y_train)"
      ],
      "metadata": {
        "colab": {
          "base_uri": "https://localhost:8080/"
        },
        "id": "Z1haJK3kjvUr",
        "outputId": "04b1c7f8-2dc3-474d-8df4-595642f4ecf2"
      },
      "execution_count": 91,
      "outputs": [
        {
          "output_type": "execute_result",
          "data": {
            "text/plain": [
              "0.8421717171717171"
            ]
          },
          "metadata": {},
          "execution_count": 91
        }
      ]
    },
    {
      "cell_type": "code",
      "source": [
        "y_pred = svc.predict(x_test_vec_avg)\n",
        "accuracy_score(y_pred,y_test)"
      ],
      "metadata": {
        "colab": {
          "base_uri": "https://localhost:8080/"
        },
        "id": "oOyF0DbGjyPf",
        "outputId": "9124ca1f-2302-47cf-a6d6-6136c0f5824b"
      },
      "execution_count": 92,
      "outputs": [
        {
          "output_type": "execute_result",
          "data": {
            "text/plain": [
              "0.8428030303030303"
            ]
          },
          "metadata": {},
          "execution_count": 92
        }
      ]
    },
    {
      "cell_type": "code",
      "source": [
        "xgb_clf = xgb.XGBClassifier(n_estimators=20 ,max_depth = 1, random_state = 42, learning_rate = 0.4, gamma = 0.1 )"
      ],
      "metadata": {
        "id": "vSI0FcPej16E"
      },
      "execution_count": 93,
      "outputs": []
    },
    {
      "cell_type": "code",
      "source": [
        "xgb_clf.fit(x_train_vec_avg,y_train)"
      ],
      "metadata": {
        "colab": {
          "base_uri": "https://localhost:8080/",
          "height": 248
        },
        "id": "S4K9qwbjj6bQ",
        "outputId": "b449c57b-c417-4147-9eab-3223381f55b3"
      },
      "execution_count": 94,
      "outputs": [
        {
          "output_type": "execute_result",
          "data": {
            "text/plain": [
              "XGBClassifier(base_score=None, booster=None, callbacks=None,\n",
              "              colsample_bylevel=None, colsample_bynode=None,\n",
              "              colsample_bytree=None, device=None, early_stopping_rounds=None,\n",
              "              enable_categorical=False, eval_metric=None, feature_types=None,\n",
              "              gamma=0.1, grow_policy=None, importance_type=None,\n",
              "              interaction_constraints=None, learning_rate=0.4, max_bin=None,\n",
              "              max_cat_threshold=None, max_cat_to_onehot=None,\n",
              "              max_delta_step=None, max_depth=1, max_leaves=None,\n",
              "              min_child_weight=None, missing=nan, monotone_constraints=None,\n",
              "              multi_strategy=None, n_estimators=20, n_jobs=None,\n",
              "              num_parallel_tree=None, random_state=42, ...)"
            ],
            "text/html": [
              "<style>#sk-container-id-7 {color: black;background-color: white;}#sk-container-id-7 pre{padding: 0;}#sk-container-id-7 div.sk-toggleable {background-color: white;}#sk-container-id-7 label.sk-toggleable__label {cursor: pointer;display: block;width: 100%;margin-bottom: 0;padding: 0.3em;box-sizing: border-box;text-align: center;}#sk-container-id-7 label.sk-toggleable__label-arrow:before {content: \"▸\";float: left;margin-right: 0.25em;color: #696969;}#sk-container-id-7 label.sk-toggleable__label-arrow:hover:before {color: black;}#sk-container-id-7 div.sk-estimator:hover label.sk-toggleable__label-arrow:before {color: black;}#sk-container-id-7 div.sk-toggleable__content {max-height: 0;max-width: 0;overflow: hidden;text-align: left;background-color: #f0f8ff;}#sk-container-id-7 div.sk-toggleable__content pre {margin: 0.2em;color: black;border-radius: 0.25em;background-color: #f0f8ff;}#sk-container-id-7 input.sk-toggleable__control:checked~div.sk-toggleable__content {max-height: 200px;max-width: 100%;overflow: auto;}#sk-container-id-7 input.sk-toggleable__control:checked~label.sk-toggleable__label-arrow:before {content: \"▾\";}#sk-container-id-7 div.sk-estimator input.sk-toggleable__control:checked~label.sk-toggleable__label {background-color: #d4ebff;}#sk-container-id-7 div.sk-label input.sk-toggleable__control:checked~label.sk-toggleable__label {background-color: #d4ebff;}#sk-container-id-7 input.sk-hidden--visually {border: 0;clip: rect(1px 1px 1px 1px);clip: rect(1px, 1px, 1px, 1px);height: 1px;margin: -1px;overflow: hidden;padding: 0;position: absolute;width: 1px;}#sk-container-id-7 div.sk-estimator {font-family: monospace;background-color: #f0f8ff;border: 1px dotted black;border-radius: 0.25em;box-sizing: border-box;margin-bottom: 0.5em;}#sk-container-id-7 div.sk-estimator:hover {background-color: #d4ebff;}#sk-container-id-7 div.sk-parallel-item::after {content: \"\";width: 100%;border-bottom: 1px solid gray;flex-grow: 1;}#sk-container-id-7 div.sk-label:hover label.sk-toggleable__label {background-color: #d4ebff;}#sk-container-id-7 div.sk-serial::before {content: \"\";position: absolute;border-left: 1px solid gray;box-sizing: border-box;top: 0;bottom: 0;left: 50%;z-index: 0;}#sk-container-id-7 div.sk-serial {display: flex;flex-direction: column;align-items: center;background-color: white;padding-right: 0.2em;padding-left: 0.2em;position: relative;}#sk-container-id-7 div.sk-item {position: relative;z-index: 1;}#sk-container-id-7 div.sk-parallel {display: flex;align-items: stretch;justify-content: center;background-color: white;position: relative;}#sk-container-id-7 div.sk-item::before, #sk-container-id-7 div.sk-parallel-item::before {content: \"\";position: absolute;border-left: 1px solid gray;box-sizing: border-box;top: 0;bottom: 0;left: 50%;z-index: -1;}#sk-container-id-7 div.sk-parallel-item {display: flex;flex-direction: column;z-index: 1;position: relative;background-color: white;}#sk-container-id-7 div.sk-parallel-item:first-child::after {align-self: flex-end;width: 50%;}#sk-container-id-7 div.sk-parallel-item:last-child::after {align-self: flex-start;width: 50%;}#sk-container-id-7 div.sk-parallel-item:only-child::after {width: 0;}#sk-container-id-7 div.sk-dashed-wrapped {border: 1px dashed gray;margin: 0 0.4em 0.5em 0.4em;box-sizing: border-box;padding-bottom: 0.4em;background-color: white;}#sk-container-id-7 div.sk-label label {font-family: monospace;font-weight: bold;display: inline-block;line-height: 1.2em;}#sk-container-id-7 div.sk-label-container {text-align: center;}#sk-container-id-7 div.sk-container {/* jupyter's `normalize.less` sets `[hidden] { display: none; }` but bootstrap.min.css set `[hidden] { display: none !important; }` so we also need the `!important` here to be able to override the default hidden behavior on the sphinx rendered scikit-learn.org. See: https://github.com/scikit-learn/scikit-learn/issues/21755 */display: inline-block !important;position: relative;}#sk-container-id-7 div.sk-text-repr-fallback {display: none;}</style><div id=\"sk-container-id-7\" class=\"sk-top-container\"><div class=\"sk-text-repr-fallback\"><pre>XGBClassifier(base_score=None, booster=None, callbacks=None,\n",
              "              colsample_bylevel=None, colsample_bynode=None,\n",
              "              colsample_bytree=None, device=None, early_stopping_rounds=None,\n",
              "              enable_categorical=False, eval_metric=None, feature_types=None,\n",
              "              gamma=0.1, grow_policy=None, importance_type=None,\n",
              "              interaction_constraints=None, learning_rate=0.4, max_bin=None,\n",
              "              max_cat_threshold=None, max_cat_to_onehot=None,\n",
              "              max_delta_step=None, max_depth=1, max_leaves=None,\n",
              "              min_child_weight=None, missing=nan, monotone_constraints=None,\n",
              "              multi_strategy=None, n_estimators=20, n_jobs=None,\n",
              "              num_parallel_tree=None, random_state=42, ...)</pre><b>In a Jupyter environment, please rerun this cell to show the HTML representation or trust the notebook. <br />On GitHub, the HTML representation is unable to render, please try loading this page with nbviewer.org.</b></div><div class=\"sk-container\" hidden><div class=\"sk-item\"><div class=\"sk-estimator sk-toggleable\"><input class=\"sk-toggleable__control sk-hidden--visually\" id=\"sk-estimator-id-7\" type=\"checkbox\" checked><label for=\"sk-estimator-id-7\" class=\"sk-toggleable__label sk-toggleable__label-arrow\">XGBClassifier</label><div class=\"sk-toggleable__content\"><pre>XGBClassifier(base_score=None, booster=None, callbacks=None,\n",
              "              colsample_bylevel=None, colsample_bynode=None,\n",
              "              colsample_bytree=None, device=None, early_stopping_rounds=None,\n",
              "              enable_categorical=False, eval_metric=None, feature_types=None,\n",
              "              gamma=0.1, grow_policy=None, importance_type=None,\n",
              "              interaction_constraints=None, learning_rate=0.4, max_bin=None,\n",
              "              max_cat_threshold=None, max_cat_to_onehot=None,\n",
              "              max_delta_step=None, max_depth=1, max_leaves=None,\n",
              "              min_child_weight=None, missing=nan, monotone_constraints=None,\n",
              "              multi_strategy=None, n_estimators=20, n_jobs=None,\n",
              "              num_parallel_tree=None, random_state=42, ...)</pre></div></div></div></div></div>"
            ]
          },
          "metadata": {},
          "execution_count": 94
        }
      ]
    },
    {
      "cell_type": "code",
      "source": [
        "y_pred = xgb_clf.predict(x_train_vec_avg)\n",
        "accuracy_score(y_pred,y_train)"
      ],
      "metadata": {
        "colab": {
          "base_uri": "https://localhost:8080/"
        },
        "id": "_9PE6d_Uj8ib",
        "outputId": "909397f6-3ce1-444f-e7d7-3120a6a63266"
      },
      "execution_count": 95,
      "outputs": [
        {
          "output_type": "execute_result",
          "data": {
            "text/plain": [
              "0.8388573232323232"
            ]
          },
          "metadata": {},
          "execution_count": 95
        }
      ]
    },
    {
      "cell_type": "code",
      "source": [
        "y_pred = xgb_clf.predict(x_test_vec_avg)\n",
        "accuracy_score(y_pred,y_test)"
      ],
      "metadata": {
        "colab": {
          "base_uri": "https://localhost:8080/"
        },
        "id": "SGpMGQvdj-xe",
        "outputId": "caa10133-6679-452b-f212-159a0216a210"
      },
      "execution_count": 96,
      "outputs": [
        {
          "output_type": "execute_result",
          "data": {
            "text/plain": [
              "0.8446969696969697"
            ]
          },
          "metadata": {},
          "execution_count": 96
        }
      ]
    },
    {
      "cell_type": "code",
      "source": [
        "knn = KNeighborsClassifier(n_neighbors = 25, metric = 'minkowski',p = 1)"
      ],
      "metadata": {
        "id": "tN7huoBYkBt9"
      },
      "execution_count": 97,
      "outputs": []
    },
    {
      "cell_type": "code",
      "source": [
        "knn.fit(x_train_vec_avg,y_train)"
      ],
      "metadata": {
        "colab": {
          "base_uri": "https://localhost:8080/",
          "height": 75
        },
        "id": "72xmJ2MFkERK",
        "outputId": "99edf1c8-97d8-49f5-bdbe-e3c34c70c5bd"
      },
      "execution_count": 98,
      "outputs": [
        {
          "output_type": "execute_result",
          "data": {
            "text/plain": [
              "KNeighborsClassifier(n_neighbors=25, p=1)"
            ],
            "text/html": [
              "<style>#sk-container-id-8 {color: black;background-color: white;}#sk-container-id-8 pre{padding: 0;}#sk-container-id-8 div.sk-toggleable {background-color: white;}#sk-container-id-8 label.sk-toggleable__label {cursor: pointer;display: block;width: 100%;margin-bottom: 0;padding: 0.3em;box-sizing: border-box;text-align: center;}#sk-container-id-8 label.sk-toggleable__label-arrow:before {content: \"▸\";float: left;margin-right: 0.25em;color: #696969;}#sk-container-id-8 label.sk-toggleable__label-arrow:hover:before {color: black;}#sk-container-id-8 div.sk-estimator:hover label.sk-toggleable__label-arrow:before {color: black;}#sk-container-id-8 div.sk-toggleable__content {max-height: 0;max-width: 0;overflow: hidden;text-align: left;background-color: #f0f8ff;}#sk-container-id-8 div.sk-toggleable__content pre {margin: 0.2em;color: black;border-radius: 0.25em;background-color: #f0f8ff;}#sk-container-id-8 input.sk-toggleable__control:checked~div.sk-toggleable__content {max-height: 200px;max-width: 100%;overflow: auto;}#sk-container-id-8 input.sk-toggleable__control:checked~label.sk-toggleable__label-arrow:before {content: \"▾\";}#sk-container-id-8 div.sk-estimator input.sk-toggleable__control:checked~label.sk-toggleable__label {background-color: #d4ebff;}#sk-container-id-8 div.sk-label input.sk-toggleable__control:checked~label.sk-toggleable__label {background-color: #d4ebff;}#sk-container-id-8 input.sk-hidden--visually {border: 0;clip: rect(1px 1px 1px 1px);clip: rect(1px, 1px, 1px, 1px);height: 1px;margin: -1px;overflow: hidden;padding: 0;position: absolute;width: 1px;}#sk-container-id-8 div.sk-estimator {font-family: monospace;background-color: #f0f8ff;border: 1px dotted black;border-radius: 0.25em;box-sizing: border-box;margin-bottom: 0.5em;}#sk-container-id-8 div.sk-estimator:hover {background-color: #d4ebff;}#sk-container-id-8 div.sk-parallel-item::after {content: \"\";width: 100%;border-bottom: 1px solid gray;flex-grow: 1;}#sk-container-id-8 div.sk-label:hover label.sk-toggleable__label {background-color: #d4ebff;}#sk-container-id-8 div.sk-serial::before {content: \"\";position: absolute;border-left: 1px solid gray;box-sizing: border-box;top: 0;bottom: 0;left: 50%;z-index: 0;}#sk-container-id-8 div.sk-serial {display: flex;flex-direction: column;align-items: center;background-color: white;padding-right: 0.2em;padding-left: 0.2em;position: relative;}#sk-container-id-8 div.sk-item {position: relative;z-index: 1;}#sk-container-id-8 div.sk-parallel {display: flex;align-items: stretch;justify-content: center;background-color: white;position: relative;}#sk-container-id-8 div.sk-item::before, #sk-container-id-8 div.sk-parallel-item::before {content: \"\";position: absolute;border-left: 1px solid gray;box-sizing: border-box;top: 0;bottom: 0;left: 50%;z-index: -1;}#sk-container-id-8 div.sk-parallel-item {display: flex;flex-direction: column;z-index: 1;position: relative;background-color: white;}#sk-container-id-8 div.sk-parallel-item:first-child::after {align-self: flex-end;width: 50%;}#sk-container-id-8 div.sk-parallel-item:last-child::after {align-self: flex-start;width: 50%;}#sk-container-id-8 div.sk-parallel-item:only-child::after {width: 0;}#sk-container-id-8 div.sk-dashed-wrapped {border: 1px dashed gray;margin: 0 0.4em 0.5em 0.4em;box-sizing: border-box;padding-bottom: 0.4em;background-color: white;}#sk-container-id-8 div.sk-label label {font-family: monospace;font-weight: bold;display: inline-block;line-height: 1.2em;}#sk-container-id-8 div.sk-label-container {text-align: center;}#sk-container-id-8 div.sk-container {/* jupyter's `normalize.less` sets `[hidden] { display: none; }` but bootstrap.min.css set `[hidden] { display: none !important; }` so we also need the `!important` here to be able to override the default hidden behavior on the sphinx rendered scikit-learn.org. See: https://github.com/scikit-learn/scikit-learn/issues/21755 */display: inline-block !important;position: relative;}#sk-container-id-8 div.sk-text-repr-fallback {display: none;}</style><div id=\"sk-container-id-8\" class=\"sk-top-container\"><div class=\"sk-text-repr-fallback\"><pre>KNeighborsClassifier(n_neighbors=25, p=1)</pre><b>In a Jupyter environment, please rerun this cell to show the HTML representation or trust the notebook. <br />On GitHub, the HTML representation is unable to render, please try loading this page with nbviewer.org.</b></div><div class=\"sk-container\" hidden><div class=\"sk-item\"><div class=\"sk-estimator sk-toggleable\"><input class=\"sk-toggleable__control sk-hidden--visually\" id=\"sk-estimator-id-8\" type=\"checkbox\" checked><label for=\"sk-estimator-id-8\" class=\"sk-toggleable__label sk-toggleable__label-arrow\">KNeighborsClassifier</label><div class=\"sk-toggleable__content\"><pre>KNeighborsClassifier(n_neighbors=25, p=1)</pre></div></div></div></div></div>"
            ]
          },
          "metadata": {},
          "execution_count": 98
        }
      ]
    },
    {
      "cell_type": "code",
      "source": [
        "y_pred = knn.predict(x_train_vec_avg)\n",
        "accuracy_score(y_pred,y_train)"
      ],
      "metadata": {
        "colab": {
          "base_uri": "https://localhost:8080/"
        },
        "id": "JRy-GhC9kG5L",
        "outputId": "422e2454-eb34-4060-bcd0-630ed4bcb13a"
      },
      "execution_count": 99,
      "outputs": [
        {
          "output_type": "execute_result",
          "data": {
            "text/plain": [
              "0.8541666666666666"
            ]
          },
          "metadata": {},
          "execution_count": 99
        }
      ]
    },
    {
      "cell_type": "code",
      "source": [
        "y_pred = knn.predict(x_test_vec_avg)\n",
        "accuracy_score(y_pred,y_test)"
      ],
      "metadata": {
        "colab": {
          "base_uri": "https://localhost:8080/"
        },
        "id": "HLjr2BHFkKRY",
        "outputId": "e95f2a80-acdd-41e3-a8e3-64b6e71ad5ca"
      },
      "execution_count": 100,
      "outputs": [
        {
          "output_type": "execute_result",
          "data": {
            "text/plain": [
              "0.8377525252525253"
            ]
          },
          "metadata": {},
          "execution_count": 100
        }
      ]
    },
    {
      "cell_type": "code",
      "source": [
        "model = Sequential()"
      ],
      "metadata": {
        "id": "27oUTgASkM_n"
      },
      "execution_count": 101,
      "outputs": []
    },
    {
      "cell_type": "code",
      "source": [
        "model.add(Dense(85,activation = 'relu'))\n",
        "model.add(Dense(80,activation = 'relu'))\n",
        "model.add(Dense(65,activation = 'relu'))\n",
        "model.add(Dense(1, activation = 'sigmoid'))"
      ],
      "metadata": {
        "id": "P1PPEIghkPbz"
      },
      "execution_count": 102,
      "outputs": []
    },
    {
      "cell_type": "code",
      "source": [
        "model.compile(loss = 'binary_crossentropy',optimizer = 'adam',metrics = ['accuracy'])"
      ],
      "metadata": {
        "id": "4FMeftH5kR1E"
      },
      "execution_count": 103,
      "outputs": []
    },
    {
      "cell_type": "code",
      "source": [
        "x_train_new = np.array(x_train_vec_avg)\n",
        "y_train_new = np.array(y_train)"
      ],
      "metadata": {
        "id": "s6sRi9iskU-C"
      },
      "execution_count": 104,
      "outputs": []
    },
    {
      "cell_type": "code",
      "source": [
        "history = model.fit(x_train_new,y_train_new,epochs=100,validation_split=0.2)"
      ],
      "metadata": {
        "colab": {
          "base_uri": "https://localhost:8080/"
        },
        "id": "4xqTffAlkXY1",
        "outputId": "945a7ef9-8cc1-4d3a-e786-e166be5f9ccf"
      },
      "execution_count": 105,
      "outputs": [
        {
          "output_type": "stream",
          "name": "stdout",
          "text": [
            "Epoch 1/100\n",
            "159/159 [==============================] - 2s 4ms/step - loss: 0.4148 - accuracy: 0.7966 - val_loss: 0.3544 - val_accuracy: 0.8454\n",
            "Epoch 2/100\n",
            "159/159 [==============================] - 0s 3ms/step - loss: 0.3632 - accuracy: 0.8285 - val_loss: 0.3436 - val_accuracy: 0.8557\n",
            "Epoch 3/100\n",
            "159/159 [==============================] - 0s 3ms/step - loss: 0.3613 - accuracy: 0.8240 - val_loss: 0.3414 - val_accuracy: 0.8486\n",
            "Epoch 4/100\n",
            "159/159 [==============================] - 1s 3ms/step - loss: 0.3510 - accuracy: 0.8362 - val_loss: 0.3557 - val_accuracy: 0.8344\n",
            "Epoch 5/100\n",
            "159/159 [==============================] - 0s 3ms/step - loss: 0.3498 - accuracy: 0.8321 - val_loss: 0.3387 - val_accuracy: 0.8525\n",
            "Epoch 6/100\n",
            "159/159 [==============================] - 0s 3ms/step - loss: 0.3474 - accuracy: 0.8348 - val_loss: 0.3310 - val_accuracy: 0.8549\n",
            "Epoch 7/100\n",
            "159/159 [==============================] - 1s 3ms/step - loss: 0.3432 - accuracy: 0.8352 - val_loss: 0.3278 - val_accuracy: 0.8620\n",
            "Epoch 8/100\n",
            "159/159 [==============================] - 0s 3ms/step - loss: 0.3424 - accuracy: 0.8376 - val_loss: 0.3296 - val_accuracy: 0.8596\n",
            "Epoch 9/100\n",
            "159/159 [==============================] - 1s 3ms/step - loss: 0.3363 - accuracy: 0.8408 - val_loss: 0.3415 - val_accuracy: 0.8549\n",
            "Epoch 10/100\n",
            "159/159 [==============================] - 1s 3ms/step - loss: 0.3445 - accuracy: 0.8333 - val_loss: 0.3388 - val_accuracy: 0.8423\n",
            "Epoch 11/100\n",
            "159/159 [==============================] - 1s 4ms/step - loss: 0.3367 - accuracy: 0.8404 - val_loss: 0.3261 - val_accuracy: 0.8573\n",
            "Epoch 12/100\n",
            "159/159 [==============================] - 1s 3ms/step - loss: 0.3350 - accuracy: 0.8368 - val_loss: 0.3278 - val_accuracy: 0.8620\n",
            "Epoch 13/100\n",
            "159/159 [==============================] - 1s 4ms/step - loss: 0.3326 - accuracy: 0.8406 - val_loss: 0.3220 - val_accuracy: 0.8612\n",
            "Epoch 14/100\n",
            "159/159 [==============================] - 1s 3ms/step - loss: 0.3310 - accuracy: 0.8404 - val_loss: 0.3204 - val_accuracy: 0.8651\n",
            "Epoch 15/100\n",
            "159/159 [==============================] - 1s 3ms/step - loss: 0.3323 - accuracy: 0.8429 - val_loss: 0.3236 - val_accuracy: 0.8549\n",
            "Epoch 16/100\n",
            "159/159 [==============================] - 1s 4ms/step - loss: 0.3325 - accuracy: 0.8386 - val_loss: 0.3246 - val_accuracy: 0.8549\n",
            "Epoch 17/100\n",
            "159/159 [==============================] - 1s 4ms/step - loss: 0.3252 - accuracy: 0.8433 - val_loss: 0.3393 - val_accuracy: 0.8344\n",
            "Epoch 18/100\n",
            "159/159 [==============================] - 1s 5ms/step - loss: 0.3293 - accuracy: 0.8427 - val_loss: 0.3200 - val_accuracy: 0.8612\n",
            "Epoch 19/100\n",
            "159/159 [==============================] - 1s 5ms/step - loss: 0.3251 - accuracy: 0.8433 - val_loss: 0.3213 - val_accuracy: 0.8667\n",
            "Epoch 20/100\n",
            "159/159 [==============================] - 1s 5ms/step - loss: 0.3246 - accuracy: 0.8443 - val_loss: 0.3268 - val_accuracy: 0.8502\n",
            "Epoch 21/100\n",
            "159/159 [==============================] - 1s 5ms/step - loss: 0.3338 - accuracy: 0.8412 - val_loss: 0.3470 - val_accuracy: 0.8446\n",
            "Epoch 22/100\n",
            "159/159 [==============================] - 1s 5ms/step - loss: 0.3282 - accuracy: 0.8396 - val_loss: 0.3225 - val_accuracy: 0.8549\n",
            "Epoch 23/100\n",
            "159/159 [==============================] - 1s 4ms/step - loss: 0.3258 - accuracy: 0.8445 - val_loss: 0.3273 - val_accuracy: 0.8596\n",
            "Epoch 24/100\n",
            "159/159 [==============================] - 1s 4ms/step - loss: 0.3209 - accuracy: 0.8471 - val_loss: 0.3328 - val_accuracy: 0.8399\n",
            "Epoch 25/100\n",
            "159/159 [==============================] - 1s 3ms/step - loss: 0.3289 - accuracy: 0.8418 - val_loss: 0.3309 - val_accuracy: 0.8517\n",
            "Epoch 26/100\n",
            "159/159 [==============================] - 1s 3ms/step - loss: 0.3278 - accuracy: 0.8447 - val_loss: 0.3172 - val_accuracy: 0.8675\n",
            "Epoch 27/100\n",
            "159/159 [==============================] - 0s 3ms/step - loss: 0.3251 - accuracy: 0.8475 - val_loss: 0.3208 - val_accuracy: 0.8604\n",
            "Epoch 28/100\n",
            "159/159 [==============================] - 0s 3ms/step - loss: 0.3237 - accuracy: 0.8423 - val_loss: 0.3167 - val_accuracy: 0.8636\n",
            "Epoch 29/100\n",
            "159/159 [==============================] - 0s 3ms/step - loss: 0.3281 - accuracy: 0.8388 - val_loss: 0.3242 - val_accuracy: 0.8644\n",
            "Epoch 30/100\n",
            "159/159 [==============================] - 0s 3ms/step - loss: 0.3303 - accuracy: 0.8400 - val_loss: 0.3353 - val_accuracy: 0.8517\n",
            "Epoch 31/100\n",
            "159/159 [==============================] - 0s 3ms/step - loss: 0.3254 - accuracy: 0.8469 - val_loss: 0.3284 - val_accuracy: 0.8525\n",
            "Epoch 32/100\n",
            "159/159 [==============================] - 1s 3ms/step - loss: 0.3248 - accuracy: 0.8406 - val_loss: 0.3186 - val_accuracy: 0.8667\n",
            "Epoch 33/100\n",
            "159/159 [==============================] - 0s 3ms/step - loss: 0.3226 - accuracy: 0.8439 - val_loss: 0.3276 - val_accuracy: 0.8533\n",
            "Epoch 34/100\n",
            "159/159 [==============================] - 0s 3ms/step - loss: 0.3228 - accuracy: 0.8431 - val_loss: 0.3203 - val_accuracy: 0.8557\n",
            "Epoch 35/100\n",
            "159/159 [==============================] - 1s 3ms/step - loss: 0.3198 - accuracy: 0.8473 - val_loss: 0.3255 - val_accuracy: 0.8470\n",
            "Epoch 36/100\n",
            "159/159 [==============================] - 1s 4ms/step - loss: 0.3235 - accuracy: 0.8431 - val_loss: 0.3166 - val_accuracy: 0.8644\n",
            "Epoch 37/100\n",
            "159/159 [==============================] - 0s 3ms/step - loss: 0.3218 - accuracy: 0.8435 - val_loss: 0.3165 - val_accuracy: 0.8675\n",
            "Epoch 38/100\n",
            "159/159 [==============================] - 0s 3ms/step - loss: 0.3214 - accuracy: 0.8461 - val_loss: 0.3204 - val_accuracy: 0.8644\n",
            "Epoch 39/100\n",
            "159/159 [==============================] - 1s 3ms/step - loss: 0.3226 - accuracy: 0.8455 - val_loss: 0.3261 - val_accuracy: 0.8454\n",
            "Epoch 40/100\n",
            "159/159 [==============================] - 1s 4ms/step - loss: 0.3266 - accuracy: 0.8388 - val_loss: 0.3265 - val_accuracy: 0.8454\n",
            "Epoch 41/100\n",
            "159/159 [==============================] - 0s 3ms/step - loss: 0.3208 - accuracy: 0.8441 - val_loss: 0.3239 - val_accuracy: 0.8628\n",
            "Epoch 42/100\n",
            "159/159 [==============================] - 1s 4ms/step - loss: 0.3238 - accuracy: 0.8429 - val_loss: 0.3218 - val_accuracy: 0.8675\n",
            "Epoch 43/100\n",
            "159/159 [==============================] - 1s 5ms/step - loss: 0.3244 - accuracy: 0.8463 - val_loss: 0.3260 - val_accuracy: 0.8509\n",
            "Epoch 44/100\n",
            "159/159 [==============================] - 1s 5ms/step - loss: 0.3176 - accuracy: 0.8487 - val_loss: 0.3158 - val_accuracy: 0.8675\n",
            "Epoch 45/100\n",
            "159/159 [==============================] - 1s 5ms/step - loss: 0.3213 - accuracy: 0.8447 - val_loss: 0.3190 - val_accuracy: 0.8699\n",
            "Epoch 46/100\n",
            "159/159 [==============================] - 1s 5ms/step - loss: 0.3214 - accuracy: 0.8439 - val_loss: 0.3182 - val_accuracy: 0.8675\n",
            "Epoch 47/100\n",
            "159/159 [==============================] - 1s 5ms/step - loss: 0.3228 - accuracy: 0.8435 - val_loss: 0.3262 - val_accuracy: 0.8644\n",
            "Epoch 48/100\n",
            "159/159 [==============================] - 1s 3ms/step - loss: 0.3214 - accuracy: 0.8449 - val_loss: 0.3385 - val_accuracy: 0.8486\n",
            "Epoch 49/100\n",
            "159/159 [==============================] - 1s 3ms/step - loss: 0.3230 - accuracy: 0.8443 - val_loss: 0.3130 - val_accuracy: 0.8722\n",
            "Epoch 50/100\n",
            "159/159 [==============================] - 0s 3ms/step - loss: 0.3162 - accuracy: 0.8473 - val_loss: 0.3337 - val_accuracy: 0.8517\n",
            "Epoch 51/100\n",
            "159/159 [==============================] - 0s 3ms/step - loss: 0.3176 - accuracy: 0.8457 - val_loss: 0.3174 - val_accuracy: 0.8683\n",
            "Epoch 52/100\n",
            "159/159 [==============================] - 0s 3ms/step - loss: 0.3215 - accuracy: 0.8429 - val_loss: 0.3177 - val_accuracy: 0.8667\n",
            "Epoch 53/100\n",
            "159/159 [==============================] - 0s 3ms/step - loss: 0.3219 - accuracy: 0.8423 - val_loss: 0.3401 - val_accuracy: 0.8368\n",
            "Epoch 54/100\n",
            "159/159 [==============================] - 0s 3ms/step - loss: 0.3212 - accuracy: 0.8439 - val_loss: 0.3162 - val_accuracy: 0.8683\n",
            "Epoch 55/100\n",
            "159/159 [==============================] - 1s 3ms/step - loss: 0.3182 - accuracy: 0.8459 - val_loss: 0.3196 - val_accuracy: 0.8565\n",
            "Epoch 56/100\n",
            "159/159 [==============================] - 1s 3ms/step - loss: 0.3188 - accuracy: 0.8510 - val_loss: 0.3165 - val_accuracy: 0.8636\n",
            "Epoch 57/100\n",
            "159/159 [==============================] - 1s 3ms/step - loss: 0.3241 - accuracy: 0.8449 - val_loss: 0.3155 - val_accuracy: 0.8620\n",
            "Epoch 58/100\n",
            "159/159 [==============================] - 1s 3ms/step - loss: 0.3197 - accuracy: 0.8506 - val_loss: 0.3167 - val_accuracy: 0.8644\n",
            "Epoch 59/100\n",
            "159/159 [==============================] - 1s 4ms/step - loss: 0.3178 - accuracy: 0.8485 - val_loss: 0.3186 - val_accuracy: 0.8659\n",
            "Epoch 60/100\n",
            "159/159 [==============================] - 0s 3ms/step - loss: 0.3181 - accuracy: 0.8481 - val_loss: 0.3388 - val_accuracy: 0.8320\n",
            "Epoch 61/100\n",
            "159/159 [==============================] - 1s 3ms/step - loss: 0.3204 - accuracy: 0.8445 - val_loss: 0.3303 - val_accuracy: 0.8517\n",
            "Epoch 62/100\n",
            "159/159 [==============================] - 0s 3ms/step - loss: 0.3205 - accuracy: 0.8457 - val_loss: 0.3152 - val_accuracy: 0.8699\n",
            "Epoch 63/100\n",
            "159/159 [==============================] - 0s 3ms/step - loss: 0.3178 - accuracy: 0.8465 - val_loss: 0.3203 - val_accuracy: 0.8533\n",
            "Epoch 64/100\n",
            "159/159 [==============================] - 1s 3ms/step - loss: 0.3172 - accuracy: 0.8479 - val_loss: 0.3187 - val_accuracy: 0.8644\n",
            "Epoch 65/100\n",
            "159/159 [==============================] - 1s 3ms/step - loss: 0.3200 - accuracy: 0.8435 - val_loss: 0.3126 - val_accuracy: 0.8675\n",
            "Epoch 66/100\n",
            "159/159 [==============================] - 0s 3ms/step - loss: 0.3206 - accuracy: 0.8447 - val_loss: 0.3168 - val_accuracy: 0.8707\n",
            "Epoch 67/100\n",
            "159/159 [==============================] - 1s 4ms/step - loss: 0.3141 - accuracy: 0.8485 - val_loss: 0.3143 - val_accuracy: 0.8651\n",
            "Epoch 68/100\n",
            "159/159 [==============================] - 1s 5ms/step - loss: 0.3152 - accuracy: 0.8481 - val_loss: 0.3182 - val_accuracy: 0.8596\n",
            "Epoch 69/100\n",
            "159/159 [==============================] - 1s 5ms/step - loss: 0.3197 - accuracy: 0.8437 - val_loss: 0.3220 - val_accuracy: 0.8628\n",
            "Epoch 70/100\n",
            "159/159 [==============================] - 1s 5ms/step - loss: 0.3164 - accuracy: 0.8455 - val_loss: 0.3149 - val_accuracy: 0.8651\n",
            "Epoch 71/100\n",
            "159/159 [==============================] - 1s 5ms/step - loss: 0.3167 - accuracy: 0.8463 - val_loss: 0.3173 - val_accuracy: 0.8675\n",
            "Epoch 72/100\n",
            "159/159 [==============================] - 1s 5ms/step - loss: 0.3181 - accuracy: 0.8469 - val_loss: 0.3236 - val_accuracy: 0.8549\n",
            "Epoch 73/100\n",
            "159/159 [==============================] - 1s 4ms/step - loss: 0.3207 - accuracy: 0.8479 - val_loss: 0.3197 - val_accuracy: 0.8557\n",
            "Epoch 74/100\n",
            "159/159 [==============================] - 1s 4ms/step - loss: 0.3187 - accuracy: 0.8494 - val_loss: 0.3183 - val_accuracy: 0.8659\n",
            "Epoch 75/100\n",
            "159/159 [==============================] - 1s 3ms/step - loss: 0.3163 - accuracy: 0.8475 - val_loss: 0.3143 - val_accuracy: 0.8667\n",
            "Epoch 76/100\n",
            "159/159 [==============================] - 1s 4ms/step - loss: 0.3194 - accuracy: 0.8479 - val_loss: 0.3241 - val_accuracy: 0.8565\n",
            "Epoch 77/100\n",
            "159/159 [==============================] - 1s 3ms/step - loss: 0.3175 - accuracy: 0.8451 - val_loss: 0.3191 - val_accuracy: 0.8533\n",
            "Epoch 78/100\n",
            "159/159 [==============================] - 1s 3ms/step - loss: 0.3146 - accuracy: 0.8457 - val_loss: 0.3177 - val_accuracy: 0.8667\n",
            "Epoch 79/100\n",
            "159/159 [==============================] - 1s 3ms/step - loss: 0.3181 - accuracy: 0.8441 - val_loss: 0.3212 - val_accuracy: 0.8565\n",
            "Epoch 80/100\n",
            "159/159 [==============================] - 1s 3ms/step - loss: 0.3173 - accuracy: 0.8500 - val_loss: 0.3195 - val_accuracy: 0.8699\n",
            "Epoch 81/100\n",
            "159/159 [==============================] - 1s 4ms/step - loss: 0.3172 - accuracy: 0.8467 - val_loss: 0.3145 - val_accuracy: 0.8675\n",
            "Epoch 82/100\n",
            "159/159 [==============================] - 1s 4ms/step - loss: 0.3173 - accuracy: 0.8483 - val_loss: 0.3227 - val_accuracy: 0.8565\n",
            "Epoch 83/100\n",
            "159/159 [==============================] - 1s 3ms/step - loss: 0.3164 - accuracy: 0.8421 - val_loss: 0.3156 - val_accuracy: 0.8644\n",
            "Epoch 84/100\n",
            "159/159 [==============================] - 1s 3ms/step - loss: 0.3150 - accuracy: 0.8461 - val_loss: 0.3166 - val_accuracy: 0.8659\n",
            "Epoch 85/100\n",
            "159/159 [==============================] - 0s 3ms/step - loss: 0.3153 - accuracy: 0.8487 - val_loss: 0.3244 - val_accuracy: 0.8644\n",
            "Epoch 86/100\n",
            "159/159 [==============================] - 1s 3ms/step - loss: 0.3154 - accuracy: 0.8479 - val_loss: 0.3159 - val_accuracy: 0.8707\n",
            "Epoch 87/100\n",
            "159/159 [==============================] - 1s 3ms/step - loss: 0.3152 - accuracy: 0.8475 - val_loss: 0.3155 - val_accuracy: 0.8659\n",
            "Epoch 88/100\n",
            "159/159 [==============================] - 1s 3ms/step - loss: 0.3125 - accuracy: 0.8489 - val_loss: 0.3430 - val_accuracy: 0.8525\n",
            "Epoch 89/100\n",
            "159/159 [==============================] - 1s 3ms/step - loss: 0.3201 - accuracy: 0.8465 - val_loss: 0.3190 - val_accuracy: 0.8604\n",
            "Epoch 90/100\n",
            "159/159 [==============================] - 1s 4ms/step - loss: 0.3158 - accuracy: 0.8483 - val_loss: 0.3268 - val_accuracy: 0.8517\n",
            "Epoch 91/100\n",
            "159/159 [==============================] - 1s 5ms/step - loss: 0.3183 - accuracy: 0.8469 - val_loss: 0.3200 - val_accuracy: 0.8636\n",
            "Epoch 92/100\n",
            "159/159 [==============================] - 1s 6ms/step - loss: 0.3138 - accuracy: 0.8494 - val_loss: 0.3177 - val_accuracy: 0.8691\n",
            "Epoch 93/100\n",
            "159/159 [==============================] - 1s 5ms/step - loss: 0.3134 - accuracy: 0.8467 - val_loss: 0.3167 - val_accuracy: 0.8675\n",
            "Epoch 94/100\n",
            "159/159 [==============================] - 1s 5ms/step - loss: 0.3152 - accuracy: 0.8491 - val_loss: 0.3163 - val_accuracy: 0.8715\n",
            "Epoch 95/100\n",
            "159/159 [==============================] - 1s 5ms/step - loss: 0.3172 - accuracy: 0.8457 - val_loss: 0.3149 - val_accuracy: 0.8667\n",
            "Epoch 96/100\n",
            "159/159 [==============================] - 1s 5ms/step - loss: 0.3106 - accuracy: 0.8487 - val_loss: 0.3147 - val_accuracy: 0.8683\n",
            "Epoch 97/100\n",
            "159/159 [==============================] - 1s 3ms/step - loss: 0.3118 - accuracy: 0.8489 - val_loss: 0.3136 - val_accuracy: 0.8644\n",
            "Epoch 98/100\n",
            "159/159 [==============================] - 1s 4ms/step - loss: 0.3128 - accuracy: 0.8494 - val_loss: 0.3192 - val_accuracy: 0.8604\n",
            "Epoch 99/100\n",
            "159/159 [==============================] - 1s 3ms/step - loss: 0.3110 - accuracy: 0.8506 - val_loss: 0.3315 - val_accuracy: 0.8573\n",
            "Epoch 100/100\n",
            "159/159 [==============================] - 1s 3ms/step - loss: 0.3133 - accuracy: 0.8475 - val_loss: 0.3158 - val_accuracy: 0.8691\n"
          ]
        }
      ]
    },
    {
      "cell_type": "code",
      "source": [
        "x_test_new = np.array(x_test_vec_avg)\n",
        "y_test_new = np.array(y_test)"
      ],
      "metadata": {
        "id": "2tKuiATCkZ9W"
      },
      "execution_count": 106,
      "outputs": []
    },
    {
      "cell_type": "code",
      "source": [
        "model.evaluate(x_test_new,y_test_new)"
      ],
      "metadata": {
        "colab": {
          "base_uri": "https://localhost:8080/"
        },
        "id": "AXxsfj9_kv0-",
        "outputId": "1f99dfde-1a77-42aa-d41b-677c696e1548"
      },
      "execution_count": 107,
      "outputs": [
        {
          "output_type": "stream",
          "name": "stdout",
          "text": [
            "50/50 [==============================] - 0s 2ms/step - loss: 0.3332 - accuracy: 0.8529\n"
          ]
        },
        {
          "output_type": "execute_result",
          "data": {
            "text/plain": [
              "[0.333225280046463, 0.8529040217399597]"
            ]
          },
          "metadata": {},
          "execution_count": 107
        }
      ]
    },
    {
      "cell_type": "code",
      "source": [
        "label_dict = {1 :'Negative sentiment on the product',0 :'Positive sentiment on the product'}"
      ],
      "metadata": {
        "id": "lKqnzUVxkyq_"
      },
      "execution_count": 108,
      "outputs": []
    },
    {
      "cell_type": "code",
      "source": [
        "def sentiment_analyze(tweet):\n",
        "  tweet = remove_URL(tweet)\n",
        "  tweet1 = gensim.utils.simple_preprocess(tweet)\n",
        "  tweet_vec_avg = np.array([model_gs.wv[i] for i in tweet1 if i in words]).mean(axis = 0)\n",
        "  test = tweet_vec_avg.reshape(1,100)\n",
        "  sentiment = model.predict(test)\n",
        "  sentiment[sentiment<0.5] = 0\n",
        "  sentiment[sentiment>0.5] = 1\n",
        "  print(label_dict[sentiment[0][0]])"
      ],
      "metadata": {
        "id": "pYMtgglEk2rG"
      },
      "execution_count": 109,
      "outputs": []
    },
    {
      "cell_type": "code",
      "source": [
        "tweet = 'wow!!! my apple iphone 11 is simply the best #iphonelife #love #awesome'"
      ],
      "metadata": {
        "id": "AP4vZAwDk54P"
      },
      "execution_count": 110,
      "outputs": []
    },
    {
      "cell_type": "code",
      "source": [
        "sentiment_analyze(tweet)"
      ],
      "metadata": {
        "colab": {
          "base_uri": "https://localhost:8080/"
        },
        "id": "Bpx-c6HUk8Wx",
        "outputId": "7cca92ab-6f98-4998-d4df-7ae6c0624ef7"
      },
      "execution_count": 111,
      "outputs": [
        {
          "output_type": "stream",
          "name": "stdout",
          "text": [
            "1/1 [==============================] - 0s 100ms/step\n",
            "Positive sentiment on the product\n"
          ]
        }
      ]
    },
    {
      "cell_type": "code",
      "source": [
        "tweet2 = 'wow!! apple devices have become a nightmare.stupid phone'"
      ],
      "metadata": {
        "id": "sSrvcyaek-ta"
      },
      "execution_count": 112,
      "outputs": []
    },
    {
      "cell_type": "code",
      "source": [
        "sentiment_analyze(tweet2)"
      ],
      "metadata": {
        "colab": {
          "base_uri": "https://localhost:8080/"
        },
        "id": "5dwrb1_NlCuo",
        "outputId": "c7902491-e55c-4f56-ac47-fa69f806680c"
      },
      "execution_count": 113,
      "outputs": [
        {
          "output_type": "stream",
          "name": "stdout",
          "text": [
            "1/1 [==============================] - 0s 24ms/step\n",
            "Negative sentiment on the product\n"
          ]
        }
      ]
    },
    {
      "cell_type": "code",
      "source": [],
      "metadata": {
        "id": "co8K2nIklHrf"
      },
      "execution_count": null,
      "outputs": []
    }
  ]
}