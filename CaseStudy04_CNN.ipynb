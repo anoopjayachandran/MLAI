{
  "nbformat": 4,
  "nbformat_minor": 0,
  "metadata": {
    "colab": {
      "provenance": []
    },
    "kernelspec": {
      "name": "python3",
      "display_name": "Python 3"
    },
    "language_info": {
      "name": "python"
    }
  },
  "cells": [
    {
      "cell_type": "code",
      "source": [
        "import os\n",
        "import shutil"
      ],
      "metadata": {
        "id": "myowB9W7Yt7X"
      },
      "execution_count": 4,
      "outputs": []
    },
    {
      "cell_type": "code",
      "source": [
        "train_dir = '/content/Vegetable Images/train'\n",
        "valid_dir = '/content/Vegetable Images/validation'\n",
        "test_dir = '/content/Vegetable Images/test'"
      ],
      "metadata": {
        "id": "SkRIF9uBZCGJ"
      },
      "execution_count": 5,
      "outputs": []
    },
    {
      "cell_type": "code",
      "source": [
        "# Preprocess the data\n",
        "from keras.preprocessing.image import ImageDataGenerator"
      ],
      "metadata": {
        "id": "ea_kNnyaZL0G"
      },
      "execution_count": 6,
      "outputs": []
    },
    {
      "cell_type": "code",
      "source": [
        "# Define the data generators for training and testing\n",
        "train_datagen = ImageDataGenerator(rescale=1./255)\n",
        "test_datagen = ImageDataGenerator(rescale=1./255)"
      ],
      "metadata": {
        "id": "gMSeH5UIZO27"
      },
      "execution_count": 7,
      "outputs": []
    },
    {
      "cell_type": "code",
      "source": [
        "# Set the image size and batch size\n",
        "img_width, img_height = 150, 150\n",
        "batch_size = 32"
      ],
      "metadata": {
        "id": "-ndye9y_ZSFN"
      },
      "execution_count": 8,
      "outputs": []
    },
    {
      "cell_type": "code",
      "source": [
        "# Load the training data\n",
        "train_generator = train_datagen.flow_from_directory(\n",
        "    train_dir,\n",
        "    target_size=(img_width, img_height),\n",
        "    batch_size=batch_size,\n",
        "    class_mode='binary')"
      ],
      "metadata": {
        "colab": {
          "base_uri": "https://localhost:8080/"
        },
        "id": "I0WUdJHOZXS1",
        "outputId": "911d426c-1ba3-44b0-e423-67920a1046f0"
      },
      "execution_count": 9,
      "outputs": [
        {
          "output_type": "stream",
          "name": "stdout",
          "text": [
            "Found 15000 images belonging to 15 classes.\n"
          ]
        }
      ]
    },
    {
      "cell_type": "code",
      "source": [
        "# Load the testing data\n",
        "test_generator = test_datagen.flow_from_directory(\n",
        "    test_dir,\n",
        "    target_size=(img_width, img_height),\n",
        "    batch_size=batch_size,\n",
        "    class_mode='binary')"
      ],
      "metadata": {
        "colab": {
          "base_uri": "https://localhost:8080/"
        },
        "id": "oQHhUHNtZaFB",
        "outputId": "3f235b16-ab0d-40b9-81b5-0a4aecfa262d"
      },
      "execution_count": 10,
      "outputs": [
        {
          "output_type": "stream",
          "name": "stdout",
          "text": [
            "Found 3000 images belonging to 15 classes.\n"
          ]
        }
      ]
    },
    {
      "cell_type": "code",
      "source": [
        "from keras.models import Sequential\n",
        "from keras.layers import Conv2D, MaxPooling2D, Flatten, Dense"
      ],
      "metadata": {
        "id": "lOo3yBtUZd09"
      },
      "execution_count": 11,
      "outputs": []
    },
    {
      "cell_type": "code",
      "source": [
        "model = Sequential()\n",
        "model.add(Conv2D(32, (3, 3), activation='relu', input_shape=(img_width, img_height, 3)))\n",
        "model.add(MaxPooling2D((2, 2)))\n",
        "model.add(Conv2D(64, (3, 3), activation='relu'))\n",
        "model.add(MaxPooling2D((2, 2)))\n",
        "model.add(Conv2D(128, (3, 3), activation='relu'))\n",
        "model.add(MaxPooling2D((2, 2)))"
      ],
      "metadata": {
        "id": "nw5wlThLZhT2"
      },
      "execution_count": 12,
      "outputs": []
    },
    {
      "cell_type": "code",
      "source": [
        "# Flatten the output and add dense layers\n",
        "model.add(Flatten())\n",
        "model.add(Dense(128, activation='relu'))\n",
        "model.add(Dense(1, activation='sigmoid'))"
      ],
      "metadata": {
        "id": "9ladWuf7ZkEz"
      },
      "execution_count": 13,
      "outputs": []
    },
    {
      "cell_type": "code",
      "source": [
        "# Compile the model\n",
        "model.compile(optimizer='adam', loss='binary_crossentropy', metrics=['accuracy'])"
      ],
      "metadata": {
        "id": "8h2nFXIKZnkf"
      },
      "execution_count": 14,
      "outputs": []
    },
    {
      "cell_type": "code",
      "source": [
        "# Set the number of training and testing steps\n",
        "train_steps = train_generator.n // batch_size\n",
        "test_steps = test_generator.n // batch_size"
      ],
      "metadata": {
        "id": "sxeZR55tZqo6"
      },
      "execution_count": 15,
      "outputs": []
    },
    {
      "cell_type": "code",
      "source": [
        "# Print the class encodings done by the generators\n",
        "class_map = dict([(v, k) for k, v in train_generator.class_indices.items()])\n",
        "print(class_map)"
      ],
      "metadata": {
        "colab": {
          "base_uri": "https://localhost:8080/"
        },
        "id": "In1PBIEqZuGW",
        "outputId": "e3a1baa6-cd2a-4453-fb87-5123f35a3fce"
      },
      "execution_count": 16,
      "outputs": [
        {
          "output_type": "stream",
          "name": "stdout",
          "text": [
            "{0: 'Bean', 1: 'Bitter_Gourd', 2: 'Bottle_Gourd', 3: 'Brinjal', 4: 'Broccoli', 5: 'Cabbage', 6: 'Capsicum', 7: 'Carrot', 8: 'Cauliflower', 9: 'Cucumber', 10: 'Papaya', 11: 'Potato', 12: 'Pumpkin', 13: 'Radish', 14: 'Tomato'}\n"
          ]
        }
      ]
    },
    {
      "cell_type": "code",
      "source": [
        "# Train the model\n",
        "epochs = 10\n",
        "history = model.fit(\n",
        "    train_generator,\n",
        "    steps_per_epoch=train_steps,\n",
        "    epochs=epochs,\n",
        "    validation_data=test_generator,\n",
        "    validation_steps=test_steps)"
      ],
      "metadata": {
        "colab": {
          "base_uri": "https://localhost:8080/"
        },
        "id": "HRWS5zVkZxWy",
        "outputId": "dfba32d0-51a0-4245-ac6c-f38c4e5b0569"
      },
      "execution_count": 17,
      "outputs": [
        {
          "output_type": "stream",
          "name": "stdout",
          "text": [
            "Epoch 1/10\n",
            "468/468 [==============================] - 745s 2s/step - loss: -6599745208320.0000 - accuracy: 0.0664 - val_loss: -44849713643520.0000 - val_accuracy: 0.0669\n",
            "Epoch 2/10\n",
            "468/468 [==============================] - 699s 1s/step - loss: -545352063123456.0000 - accuracy: 0.0665 - val_loss: -1684585763045376.0000 - val_accuracy: 0.0665\n",
            "Epoch 3/10\n",
            "468/468 [==============================] - 701s 1s/step - loss: -5428593849008128.0000 - accuracy: 0.0667 - val_loss: -11532309312307200.0000 - val_accuracy: 0.0669\n",
            "Epoch 4/10\n",
            "468/468 [==============================] - 701s 1s/step - loss: -24319069050109952.0000 - accuracy: 0.0665 - val_loss: -42111969653686272.0000 - val_accuracy: 0.0669\n",
            "Epoch 5/10\n",
            "468/468 [==============================] - 703s 2s/step - loss: -72087572909654016.0000 - accuracy: 0.0666 - val_loss: -110907523145400320.0000 - val_accuracy: 0.0669\n",
            "Epoch 6/10\n",
            "468/468 [==============================] - 692s 1s/step - loss: -167602577511284736.0000 - accuracy: 0.0666 - val_loss: -238058732863356928.0000 - val_accuracy: 0.0665\n",
            "Epoch 7/10\n",
            "468/468 [==============================] - 690s 1s/step - loss: -332383327149359104.0000 - accuracy: 0.0666 - val_loss: -447173474960539648.0000 - val_accuracy: 0.0672\n",
            "Epoch 8/10\n",
            "468/468 [==============================] - 694s 1s/step - loss: -590332603316305920.0000 - accuracy: 0.0665 - val_loss: -763103400874213376.0000 - val_accuracy: 0.0669\n",
            "Epoch 9/10\n",
            "468/468 [==============================] - 732s 2s/step - loss: -968540620173869056.0000 - accuracy: 0.0667 - val_loss: -1212442054748012544.0000 - val_accuracy: 0.0669\n",
            "Epoch 10/10\n",
            "468/468 [==============================] - 688s 1s/step - loss: -1496672270158921728.0000 - accuracy: 0.0667 - val_loss: -1831586398197514240.0000 - val_accuracy: 0.0665\n"
          ]
        }
      ]
    },
    {
      "cell_type": "code",
      "source": [
        "# Evaluate the model\n",
        "loss, accuracy = model.evaluate(test_generator, steps=test_steps)\n",
        "print(f'Test loss: {loss:.4f}')\n",
        "print(f'Test accuracy: {accuracy:.4f}')"
      ],
      "metadata": {
        "colab": {
          "base_uri": "https://localhost:8080/"
        },
        "id": "W-NdkViHZ0f1",
        "outputId": "63cb18f7-fffd-431a-849a-48c4aa1d83d2"
      },
      "execution_count": 18,
      "outputs": [
        {
          "output_type": "stream",
          "name": "stdout",
          "text": [
            "93/93 [==============================] - 39s 420ms/step - loss: -1827995530660151296.0000 - accuracy: 0.0665\n",
            "Test loss: -1827995530660151296.0000\n",
            "Test accuracy: 0.0665\n"
          ]
        }
      ]
    },
    {
      "cell_type": "code",
      "source": [
        "model.evaluate(test_generator)"
      ],
      "metadata": {
        "colab": {
          "base_uri": "https://localhost:8080/"
        },
        "id": "S1dfIL_NaGhp",
        "outputId": "537727c9-2c61-4eb8-afba-dae32ee3f899"
      },
      "execution_count": 19,
      "outputs": [
        {
          "output_type": "stream",
          "name": "stdout",
          "text": [
            "94/94 [==============================] - 39s 416ms/step - loss: -1831403604389396480.0000 - accuracy: 0.0667\n"
          ]
        },
        {
          "output_type": "execute_result",
          "data": {
            "text/plain": [
              "[-1.8314036043893965e+18, 0.06666667014360428]"
            ]
          },
          "metadata": {},
          "execution_count": 19
        }
      ]
    },
    {
      "cell_type": "code",
      "source": [
        "from keras.preprocessing import image\n",
        "import numpy as np"
      ],
      "metadata": {
        "id": "KWud_t1baGoA"
      },
      "execution_count": 20,
      "outputs": []
    },
    {
      "cell_type": "code",
      "source": [
        "# Load and preprocess the image\n",
        "test_image_path = '/content/Vegetable Images/test/Bitter_Gourd/1202.jpg'\n",
        "img = image.load_img(test_image_path, target_size=(img_width, img_height))\n",
        "img = image.img_to_array(img) / 255.0\n",
        "img = np.expand_dims(img, axis=0)"
      ],
      "metadata": {
        "id": "pw9pFeAwaGq3"
      },
      "execution_count": 22,
      "outputs": []
    },
    {
      "cell_type": "code",
      "source": [
        "# Make predictions\n",
        "predictions = model.predict(img)\n",
        "predicted_class = np.argmax(predictions, axis=1)"
      ],
      "metadata": {
        "colab": {
          "base_uri": "https://localhost:8080/"
        },
        "id": "N3tvqMJAa3lw",
        "outputId": "9ee4191a-e129-45b4-b417-db8c93e9c46a"
      },
      "execution_count": 23,
      "outputs": [
        {
          "output_type": "stream",
          "name": "stdout",
          "text": [
            "1/1 [==============================] - 0s 227ms/step\n"
          ]
        }
      ]
    },
    {
      "cell_type": "code",
      "source": [
        "# Get the class label\n",
        "predicted_class = list(class_label.keys())[list(class_label.values()).index(class_index)]"
      ],
      "metadata": {
        "colab": {
          "base_uri": "https://localhost:8080/",
          "height": 197
        },
        "id": "t9OWKrWXa3pJ",
        "outputId": "e9540a59-0a76-48ed-c51b-7dba61f9ec1e"
      },
      "execution_count": 24,
      "outputs": [
        {
          "output_type": "error",
          "ename": "NameError",
          "evalue": "ignored",
          "traceback": [
            "\u001b[0;31m---------------------------------------------------------------------------\u001b[0m",
            "\u001b[0;31mNameError\u001b[0m                                 Traceback (most recent call last)",
            "\u001b[0;32m<ipython-input-24-48275c3f6e7b>\u001b[0m in \u001b[0;36m<cell line: 2>\u001b[0;34m()\u001b[0m\n\u001b[1;32m      1\u001b[0m \u001b[0;31m# Get the class label\u001b[0m\u001b[0;34m\u001b[0m\u001b[0;34m\u001b[0m\u001b[0m\n\u001b[0;32m----> 2\u001b[0;31m \u001b[0mpredicted_class\u001b[0m \u001b[0;34m=\u001b[0m \u001b[0mlist\u001b[0m\u001b[0;34m(\u001b[0m\u001b[0mclass_label\u001b[0m\u001b[0;34m.\u001b[0m\u001b[0mkeys\u001b[0m\u001b[0;34m(\u001b[0m\u001b[0;34m)\u001b[0m\u001b[0;34m)\u001b[0m\u001b[0;34m[\u001b[0m\u001b[0mlist\u001b[0m\u001b[0;34m(\u001b[0m\u001b[0mclass_label\u001b[0m\u001b[0;34m.\u001b[0m\u001b[0mvalues\u001b[0m\u001b[0;34m(\u001b[0m\u001b[0;34m)\u001b[0m\u001b[0;34m)\u001b[0m\u001b[0;34m.\u001b[0m\u001b[0mindex\u001b[0m\u001b[0;34m(\u001b[0m\u001b[0mclass_index\u001b[0m\u001b[0;34m)\u001b[0m\u001b[0;34m]\u001b[0m\u001b[0;34m\u001b[0m\u001b[0;34m\u001b[0m\u001b[0m\n\u001b[0m",
            "\u001b[0;31mNameError\u001b[0m: name 'class_label' is not defined"
          ]
        }
      ]
    },
    {
      "cell_type": "code",
      "source": [
        "# Print the predicted class\n",
        "print(f\"The predicted class is: {predicted_class}\")"
      ],
      "metadata": {
        "id": "hNuJgWNya3sR"
      },
      "execution_count": null,
      "outputs": []
    },
    {
      "cell_type": "code",
      "source": [
        "# Testing the Model\n",
        "test_image_path = '/content/drive/MyDrive/Vegetable Images/test/Bean/0008.jpg'"
      ],
      "metadata": {
        "id": "t5IbZnTSa3vQ"
      },
      "execution_count": null,
      "outputs": []
    },
    {
      "cell_type": "code",
      "source": [
        "def generate_predictions(test_image_path, actual_label):\n",
        "\n",
        "    # 1. Load and preprocess the image\n",
        "    test_img = image.load_img(test_image_path, target_size=(150, 150))\n",
        "    test_img_arr = image.img_to_array(test_img)/255.0\n",
        "    test_img_input = test_img_arr.reshape((1, test_img_arr.shape[0], test_img_arr.shape[1], test_img_arr.shape[2]))\n",
        "\n",
        "    # 2. Make Predictions\n",
        "    predicted_label = np.argmax(model.predict(test_img_input))\n",
        "    predicted_vegetable = class_map[predicted_label]\n",
        "    plt.figure(figsize=(4, 4))\n",
        "    plt.imshow(test_img_arr)\n",
        "    plt.title(\"Predicted Label: {}, Actual Label: {}\".format(predicted_vegetable, actual_label))\n",
        "    plt.grid()\n",
        "    plt.axis('off')\n",
        "    plt.show()"
      ],
      "metadata": {
        "id": "WY75413YbBmb"
      },
      "execution_count": null,
      "outputs": []
    },
    {
      "cell_type": "code",
      "source": [
        "# call the function\n",
        "generate_predictions(test_image_path, actual_label='Beans')"
      ],
      "metadata": {
        "id": "jX8hYOOObBqE"
      },
      "execution_count": null,
      "outputs": []
    },
    {
      "cell_type": "code",
      "source": [
        "# Generate predictions for external images\n",
        "external_image_path_1 = \"/content/potatoes.webp\"\n",
        "generate_predictions(external_image_path_1, actual_label='potato')"
      ],
      "metadata": {
        "id": "OrXR5oUibBs1"
      },
      "execution_count": null,
      "outputs": []
    },
    {
      "cell_type": "code",
      "source": [],
      "metadata": {
        "id": "P86fkjbzbBv1"
      },
      "execution_count": null,
      "outputs": []
    },
    {
      "cell_type": "code",
      "source": [],
      "metadata": {
        "id": "V3q8wEEabByj"
      },
      "execution_count": null,
      "outputs": []
    },
    {
      "cell_type": "code",
      "source": [],
      "metadata": {
        "id": "_YKcX8uybB1i"
      },
      "execution_count": null,
      "outputs": []
    },
    {
      "cell_type": "code",
      "source": [],
      "metadata": {
        "id": "bhu9NdHca3x-"
      },
      "execution_count": null,
      "outputs": []
    }
  ]
}